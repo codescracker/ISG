{
 "cells": [
  {
   "cell_type": "code",
   "execution_count": 1,
   "metadata": {
    "collapsed": true
   },
   "outputs": [],
   "source": [
    "import pandas as pd\n"
   ]
  },
  {
   "cell_type": "code",
   "execution_count": 2,
   "metadata": {
    "collapsed": false
   },
   "outputs": [],
   "source": [
    "df = pd.read_csv('./wine.csv', names= ['Class', 'Alcohol', 'Malic acid', \n",
    "                                              'Ash', 'Alcalinity of ash ', 'Magnesium',\n",
    "                                              'Total phenols', 'Flavanoids','Nonflavanoid phenols',\n",
    "                                              'Proanthocyanins','Color intensity','Hue' , \n",
    "                                              'OD280/OD315 of diluted wines','Proline'\n",
    "                                             ])"
   ]
  },
  {
   "cell_type": "code",
   "execution_count": 3,
   "metadata": {
    "collapsed": false,
    "scrolled": true
   },
   "outputs": [
    {
     "data": {
      "text/html": [
       "<div>\n",
       "<table border=\"1\" class=\"dataframe\">\n",
       "  <thead>\n",
       "    <tr style=\"text-align: right;\">\n",
       "      <th></th>\n",
       "      <th>Class</th>\n",
       "      <th>Alcohol</th>\n",
       "      <th>Malic acid</th>\n",
       "      <th>Ash</th>\n",
       "      <th>Alcalinity of ash</th>\n",
       "      <th>Magnesium</th>\n",
       "      <th>Total phenols</th>\n",
       "      <th>Flavanoids</th>\n",
       "      <th>Nonflavanoid phenols</th>\n",
       "      <th>Proanthocyanins</th>\n",
       "      <th>Color intensity</th>\n",
       "      <th>Hue</th>\n",
       "      <th>OD280/OD315 of diluted wines</th>\n",
       "      <th>Proline</th>\n",
       "    </tr>\n",
       "  </thead>\n",
       "  <tbody>\n",
       "    <tr>\n",
       "      <th>0</th>\n",
       "      <td>1</td>\n",
       "      <td>14.23</td>\n",
       "      <td>1.71</td>\n",
       "      <td>2.43</td>\n",
       "      <td>15.6</td>\n",
       "      <td>127</td>\n",
       "      <td>2.80</td>\n",
       "      <td>3.06</td>\n",
       "      <td>0.28</td>\n",
       "      <td>2.29</td>\n",
       "      <td>5.64</td>\n",
       "      <td>1.04</td>\n",
       "      <td>3.92</td>\n",
       "      <td>1065</td>\n",
       "    </tr>\n",
       "    <tr>\n",
       "      <th>1</th>\n",
       "      <td>1</td>\n",
       "      <td>13.20</td>\n",
       "      <td>1.78</td>\n",
       "      <td>2.14</td>\n",
       "      <td>11.2</td>\n",
       "      <td>100</td>\n",
       "      <td>2.65</td>\n",
       "      <td>2.76</td>\n",
       "      <td>0.26</td>\n",
       "      <td>1.28</td>\n",
       "      <td>4.38</td>\n",
       "      <td>1.05</td>\n",
       "      <td>3.40</td>\n",
       "      <td>1050</td>\n",
       "    </tr>\n",
       "    <tr>\n",
       "      <th>2</th>\n",
       "      <td>1</td>\n",
       "      <td>13.16</td>\n",
       "      <td>2.36</td>\n",
       "      <td>2.67</td>\n",
       "      <td>18.6</td>\n",
       "      <td>101</td>\n",
       "      <td>2.80</td>\n",
       "      <td>3.24</td>\n",
       "      <td>0.30</td>\n",
       "      <td>2.81</td>\n",
       "      <td>5.68</td>\n",
       "      <td>1.03</td>\n",
       "      <td>3.17</td>\n",
       "      <td>1185</td>\n",
       "    </tr>\n",
       "    <tr>\n",
       "      <th>3</th>\n",
       "      <td>1</td>\n",
       "      <td>14.37</td>\n",
       "      <td>1.95</td>\n",
       "      <td>2.50</td>\n",
       "      <td>16.8</td>\n",
       "      <td>113</td>\n",
       "      <td>3.85</td>\n",
       "      <td>3.49</td>\n",
       "      <td>0.24</td>\n",
       "      <td>2.18</td>\n",
       "      <td>7.80</td>\n",
       "      <td>0.86</td>\n",
       "      <td>3.45</td>\n",
       "      <td>1480</td>\n",
       "    </tr>\n",
       "    <tr>\n",
       "      <th>4</th>\n",
       "      <td>1</td>\n",
       "      <td>13.24</td>\n",
       "      <td>2.59</td>\n",
       "      <td>2.87</td>\n",
       "      <td>21.0</td>\n",
       "      <td>118</td>\n",
       "      <td>2.80</td>\n",
       "      <td>2.69</td>\n",
       "      <td>0.39</td>\n",
       "      <td>1.82</td>\n",
       "      <td>4.32</td>\n",
       "      <td>1.04</td>\n",
       "      <td>2.93</td>\n",
       "      <td>735</td>\n",
       "    </tr>\n",
       "    <tr>\n",
       "      <th>5</th>\n",
       "      <td>1</td>\n",
       "      <td>14.20</td>\n",
       "      <td>1.76</td>\n",
       "      <td>2.45</td>\n",
       "      <td>15.2</td>\n",
       "      <td>112</td>\n",
       "      <td>3.27</td>\n",
       "      <td>3.39</td>\n",
       "      <td>0.34</td>\n",
       "      <td>1.97</td>\n",
       "      <td>6.75</td>\n",
       "      <td>1.05</td>\n",
       "      <td>2.85</td>\n",
       "      <td>1450</td>\n",
       "    </tr>\n",
       "    <tr>\n",
       "      <th>6</th>\n",
       "      <td>1</td>\n",
       "      <td>14.39</td>\n",
       "      <td>1.87</td>\n",
       "      <td>2.45</td>\n",
       "      <td>14.6</td>\n",
       "      <td>96</td>\n",
       "      <td>2.50</td>\n",
       "      <td>2.52</td>\n",
       "      <td>0.30</td>\n",
       "      <td>1.98</td>\n",
       "      <td>5.25</td>\n",
       "      <td>1.02</td>\n",
       "      <td>3.58</td>\n",
       "      <td>1290</td>\n",
       "    </tr>\n",
       "    <tr>\n",
       "      <th>7</th>\n",
       "      <td>1</td>\n",
       "      <td>14.06</td>\n",
       "      <td>2.15</td>\n",
       "      <td>2.61</td>\n",
       "      <td>17.6</td>\n",
       "      <td>121</td>\n",
       "      <td>2.60</td>\n",
       "      <td>2.51</td>\n",
       "      <td>0.31</td>\n",
       "      <td>1.25</td>\n",
       "      <td>5.05</td>\n",
       "      <td>1.06</td>\n",
       "      <td>3.58</td>\n",
       "      <td>1295</td>\n",
       "    </tr>\n",
       "    <tr>\n",
       "      <th>8</th>\n",
       "      <td>1</td>\n",
       "      <td>14.83</td>\n",
       "      <td>1.64</td>\n",
       "      <td>2.17</td>\n",
       "      <td>14.0</td>\n",
       "      <td>97</td>\n",
       "      <td>2.80</td>\n",
       "      <td>2.98</td>\n",
       "      <td>0.29</td>\n",
       "      <td>1.98</td>\n",
       "      <td>5.20</td>\n",
       "      <td>1.08</td>\n",
       "      <td>2.85</td>\n",
       "      <td>1045</td>\n",
       "    </tr>\n",
       "    <tr>\n",
       "      <th>9</th>\n",
       "      <td>1</td>\n",
       "      <td>13.86</td>\n",
       "      <td>1.35</td>\n",
       "      <td>2.27</td>\n",
       "      <td>16.0</td>\n",
       "      <td>98</td>\n",
       "      <td>2.98</td>\n",
       "      <td>3.15</td>\n",
       "      <td>0.22</td>\n",
       "      <td>1.85</td>\n",
       "      <td>7.22</td>\n",
       "      <td>1.01</td>\n",
       "      <td>3.55</td>\n",
       "      <td>1045</td>\n",
       "    </tr>\n",
       "    <tr>\n",
       "      <th>10</th>\n",
       "      <td>1</td>\n",
       "      <td>14.10</td>\n",
       "      <td>2.16</td>\n",
       "      <td>2.30</td>\n",
       "      <td>18.0</td>\n",
       "      <td>105</td>\n",
       "      <td>2.95</td>\n",
       "      <td>3.32</td>\n",
       "      <td>0.22</td>\n",
       "      <td>2.38</td>\n",
       "      <td>5.75</td>\n",
       "      <td>1.25</td>\n",
       "      <td>3.17</td>\n",
       "      <td>1510</td>\n",
       "    </tr>\n",
       "  </tbody>\n",
       "</table>\n",
       "</div>"
      ],
      "text/plain": [
       "    Class  Alcohol  Malic acid   Ash  Alcalinity of ash   Magnesium  \\\n",
       "0       1    14.23        1.71  2.43                15.6        127   \n",
       "1       1    13.20        1.78  2.14                11.2        100   \n",
       "2       1    13.16        2.36  2.67                18.6        101   \n",
       "3       1    14.37        1.95  2.50                16.8        113   \n",
       "4       1    13.24        2.59  2.87                21.0        118   \n",
       "5       1    14.20        1.76  2.45                15.2        112   \n",
       "6       1    14.39        1.87  2.45                14.6         96   \n",
       "7       1    14.06        2.15  2.61                17.6        121   \n",
       "8       1    14.83        1.64  2.17                14.0         97   \n",
       "9       1    13.86        1.35  2.27                16.0         98   \n",
       "10      1    14.10        2.16  2.30                18.0        105   \n",
       "\n",
       "    Total phenols  Flavanoids  Nonflavanoid phenols  Proanthocyanins  \\\n",
       "0            2.80        3.06                  0.28             2.29   \n",
       "1            2.65        2.76                  0.26             1.28   \n",
       "2            2.80        3.24                  0.30             2.81   \n",
       "3            3.85        3.49                  0.24             2.18   \n",
       "4            2.80        2.69                  0.39             1.82   \n",
       "5            3.27        3.39                  0.34             1.97   \n",
       "6            2.50        2.52                  0.30             1.98   \n",
       "7            2.60        2.51                  0.31             1.25   \n",
       "8            2.80        2.98                  0.29             1.98   \n",
       "9            2.98        3.15                  0.22             1.85   \n",
       "10           2.95        3.32                  0.22             2.38   \n",
       "\n",
       "    Color intensity   Hue  OD280/OD315 of diluted wines  Proline  \n",
       "0              5.64  1.04                          3.92     1065  \n",
       "1              4.38  1.05                          3.40     1050  \n",
       "2              5.68  1.03                          3.17     1185  \n",
       "3              7.80  0.86                          3.45     1480  \n",
       "4              4.32  1.04                          2.93      735  \n",
       "5              6.75  1.05                          2.85     1450  \n",
       "6              5.25  1.02                          3.58     1290  \n",
       "7              5.05  1.06                          3.58     1295  \n",
       "8              5.20  1.08                          2.85     1045  \n",
       "9              7.22  1.01                          3.55     1045  \n",
       "10             5.75  1.25                          3.17     1510  "
      ]
     },
     "execution_count": 3,
     "metadata": {},
     "output_type": "execute_result"
    }
   ],
   "source": [
    "df.ix[:10,]"
   ]
  },
  {
   "cell_type": "code",
   "execution_count": 4,
   "metadata": {
    "collapsed": false
   },
   "outputs": [],
   "source": [
    "from sklearn.preprocessing import StandardScaler"
   ]
  },
  {
   "cell_type": "code",
   "execution_count": 5,
   "metadata": {
    "collapsed": false
   },
   "outputs": [
    {
     "data": {
      "text/plain": [
       "Index(['Class', 'Alcohol', 'Malic acid', 'Ash', 'Alcalinity of ash ',\n",
       "       'Magnesium', 'Total phenols', 'Flavanoids', 'Nonflavanoid phenols',\n",
       "       'Proanthocyanins', 'Color intensity', 'Hue',\n",
       "       'OD280/OD315 of diluted wines', 'Proline'],\n",
       "      dtype='object')"
      ]
     },
     "execution_count": 5,
     "metadata": {},
     "output_type": "execute_result"
    }
   ],
   "source": [
    "df.columns"
   ]
  },
  {
   "cell_type": "code",
   "execution_count": 6,
   "metadata": {
    "collapsed": false
   },
   "outputs": [],
   "source": [
    "test = df[['Alcohol','Ash']]"
   ]
  },
  {
   "cell_type": "code",
   "execution_count": 7,
   "metadata": {
    "collapsed": false
   },
   "outputs": [],
   "source": [
    "test1 = StandardScaler().fit_transform(test)"
   ]
  },
  {
   "cell_type": "code",
   "execution_count": 9,
   "metadata": {
    "collapsed": false
   },
   "outputs": [],
   "source": [
    "test2= pd.DataFrame(test1,columns=['yi','er'])"
   ]
  },
  {
   "cell_type": "code",
   "execution_count": null,
   "metadata": {
    "collapsed": false
   },
   "outputs": [],
   "source": []
  },
  {
   "cell_type": "code",
   "execution_count": 109,
   "metadata": {
    "collapsed": false
   },
   "outputs": [
    {
     "data": {
      "text/plain": [
       "-8.657244708874816e-16"
      ]
     },
     "execution_count": 109,
     "metadata": {},
     "output_type": "execute_result"
    }
   ],
   "source": [
    "np.mean(test2['yi'])"
   ]
  },
  {
   "cell_type": "code",
   "execution_count": 111,
   "metadata": {
    "collapsed": false
   },
   "outputs": [
    {
     "data": {
      "text/plain": [
       "-0.0"
      ]
     },
     "execution_count": 111,
     "metadata": {},
     "output_type": "execute_result"
    }
   ],
   "source": [
    "np.round(np.mean(test2['er']))"
   ]
  },
  {
   "cell_type": "code",
   "execution_count": 11,
   "metadata": {
    "collapsed": false
   },
   "outputs": [],
   "source": [
    "columnName = df.columns[1:]"
   ]
  },
  {
   "cell_type": "code",
   "execution_count": 12,
   "metadata": {
    "collapsed": false
   },
   "outputs": [
    {
     "data": {
      "text/plain": [
       "Index(['Alcohol', 'Malic acid', 'Ash', 'Alcalinity of ash ', 'Magnesium',\n",
       "       'Total phenols', 'Flavanoids', 'Nonflavanoid phenols',\n",
       "       'Proanthocyanins', 'Color intensity', 'Hue',\n",
       "       'OD280/OD315 of diluted wines', 'Proline'],\n",
       "      dtype='object')"
      ]
     },
     "execution_count": 12,
     "metadata": {},
     "output_type": "execute_result"
    }
   ],
   "source": [
    "columnName"
   ]
  },
  {
   "cell_type": "code",
   "execution_count": 13,
   "metadata": {
    "collapsed": false
   },
   "outputs": [],
   "source": [
    "dt4Scale = df[columnName]"
   ]
  },
  {
   "cell_type": "code",
   "execution_count": 14,
   "metadata": {
    "collapsed": false
   },
   "outputs": [],
   "source": [
    "scaled_dt = StandardScaler().fit_transform(dt4Scale)"
   ]
  },
  {
   "cell_type": "code",
   "execution_count": 15,
   "metadata": {
    "collapsed": false
   },
   "outputs": [],
   "source": [
    "scaled_df = pd.DataFrame(scaled_dt,columns=columnName)"
   ]
  },
  {
   "cell_type": "code",
   "execution_count": 19,
   "metadata": {
    "collapsed": false
   },
   "outputs": [
    {
     "data": {
      "text/html": [
       "<div>\n",
       "<table border=\"1\" class=\"dataframe\">\n",
       "  <thead>\n",
       "    <tr style=\"text-align: right;\">\n",
       "      <th></th>\n",
       "      <th>Alcohol</th>\n",
       "      <th>Malic acid</th>\n",
       "      <th>Ash</th>\n",
       "      <th>Alcalinity of ash</th>\n",
       "      <th>Magnesium</th>\n",
       "      <th>Total phenols</th>\n",
       "      <th>Flavanoids</th>\n",
       "      <th>Nonflavanoid phenols</th>\n",
       "      <th>Proanthocyanins</th>\n",
       "      <th>Color intensity</th>\n",
       "      <th>Hue</th>\n",
       "      <th>OD280/OD315 of diluted wines</th>\n",
       "      <th>Proline</th>\n",
       "    </tr>\n",
       "  </thead>\n",
       "  <tbody>\n",
       "    <tr>\n",
       "      <th>0</th>\n",
       "      <td>1.518613</td>\n",
       "      <td>-0.562250</td>\n",
       "      <td>0.232053</td>\n",
       "      <td>-1.169593</td>\n",
       "      <td>1.913905</td>\n",
       "      <td>0.808997</td>\n",
       "      <td>1.034819</td>\n",
       "      <td>-0.659563</td>\n",
       "      <td>1.224884</td>\n",
       "      <td>0.251717</td>\n",
       "      <td>0.362177</td>\n",
       "      <td>1.847920</td>\n",
       "      <td>1.013009</td>\n",
       "    </tr>\n",
       "    <tr>\n",
       "      <th>1</th>\n",
       "      <td>0.246290</td>\n",
       "      <td>-0.499413</td>\n",
       "      <td>-0.827996</td>\n",
       "      <td>-2.490847</td>\n",
       "      <td>0.018145</td>\n",
       "      <td>0.568648</td>\n",
       "      <td>0.733629</td>\n",
       "      <td>-0.820719</td>\n",
       "      <td>-0.544721</td>\n",
       "      <td>-0.293321</td>\n",
       "      <td>0.406051</td>\n",
       "      <td>1.113449</td>\n",
       "      <td>0.965242</td>\n",
       "    </tr>\n",
       "    <tr>\n",
       "      <th>2</th>\n",
       "      <td>0.196879</td>\n",
       "      <td>0.021231</td>\n",
       "      <td>1.109334</td>\n",
       "      <td>-0.268738</td>\n",
       "      <td>0.088358</td>\n",
       "      <td>0.808997</td>\n",
       "      <td>1.215533</td>\n",
       "      <td>-0.498407</td>\n",
       "      <td>2.135968</td>\n",
       "      <td>0.269020</td>\n",
       "      <td>0.318304</td>\n",
       "      <td>0.788587</td>\n",
       "      <td>1.395148</td>\n",
       "    </tr>\n",
       "    <tr>\n",
       "      <th>3</th>\n",
       "      <td>1.691550</td>\n",
       "      <td>-0.346811</td>\n",
       "      <td>0.487926</td>\n",
       "      <td>-0.809251</td>\n",
       "      <td>0.930918</td>\n",
       "      <td>2.491446</td>\n",
       "      <td>1.466525</td>\n",
       "      <td>-0.981875</td>\n",
       "      <td>1.032155</td>\n",
       "      <td>1.186068</td>\n",
       "      <td>-0.427544</td>\n",
       "      <td>1.184071</td>\n",
       "      <td>2.334574</td>\n",
       "    </tr>\n",
       "    <tr>\n",
       "      <th>4</th>\n",
       "      <td>0.295700</td>\n",
       "      <td>0.227694</td>\n",
       "      <td>1.840403</td>\n",
       "      <td>0.451946</td>\n",
       "      <td>1.281985</td>\n",
       "      <td>0.808997</td>\n",
       "      <td>0.663351</td>\n",
       "      <td>0.226796</td>\n",
       "      <td>0.401404</td>\n",
       "      <td>-0.319276</td>\n",
       "      <td>0.362177</td>\n",
       "      <td>0.449601</td>\n",
       "      <td>-0.037874</td>\n",
       "    </tr>\n",
       "    <tr>\n",
       "      <th>5</th>\n",
       "      <td>1.481555</td>\n",
       "      <td>-0.517367</td>\n",
       "      <td>0.305159</td>\n",
       "      <td>-1.289707</td>\n",
       "      <td>0.860705</td>\n",
       "      <td>1.562093</td>\n",
       "      <td>1.366128</td>\n",
       "      <td>-0.176095</td>\n",
       "      <td>0.664217</td>\n",
       "      <td>0.731870</td>\n",
       "      <td>0.406051</td>\n",
       "      <td>0.336606</td>\n",
       "      <td>2.239039</td>\n",
       "    </tr>\n",
       "    <tr>\n",
       "      <th>6</th>\n",
       "      <td>1.716255</td>\n",
       "      <td>-0.418624</td>\n",
       "      <td>0.305159</td>\n",
       "      <td>-1.469878</td>\n",
       "      <td>-0.262708</td>\n",
       "      <td>0.328298</td>\n",
       "      <td>0.492677</td>\n",
       "      <td>-0.498407</td>\n",
       "      <td>0.681738</td>\n",
       "      <td>0.083015</td>\n",
       "      <td>0.274431</td>\n",
       "      <td>1.367689</td>\n",
       "      <td>1.729520</td>\n",
       "    </tr>\n",
       "    <tr>\n",
       "      <th>7</th>\n",
       "      <td>1.308617</td>\n",
       "      <td>-0.167278</td>\n",
       "      <td>0.890014</td>\n",
       "      <td>-0.569023</td>\n",
       "      <td>1.492625</td>\n",
       "      <td>0.488531</td>\n",
       "      <td>0.482637</td>\n",
       "      <td>-0.417829</td>\n",
       "      <td>-0.597284</td>\n",
       "      <td>-0.003499</td>\n",
       "      <td>0.449924</td>\n",
       "      <td>1.367689</td>\n",
       "      <td>1.745442</td>\n",
       "    </tr>\n",
       "    <tr>\n",
       "      <th>8</th>\n",
       "      <td>2.259772</td>\n",
       "      <td>-0.625086</td>\n",
       "      <td>-0.718336</td>\n",
       "      <td>-1.650049</td>\n",
       "      <td>-0.192495</td>\n",
       "      <td>0.808997</td>\n",
       "      <td>0.954502</td>\n",
       "      <td>-0.578985</td>\n",
       "      <td>0.681738</td>\n",
       "      <td>0.061386</td>\n",
       "      <td>0.537671</td>\n",
       "      <td>0.336606</td>\n",
       "      <td>0.949319</td>\n",
       "    </tr>\n",
       "    <tr>\n",
       "      <th>9</th>\n",
       "      <td>1.061565</td>\n",
       "      <td>-0.885409</td>\n",
       "      <td>-0.352802</td>\n",
       "      <td>-1.049479</td>\n",
       "      <td>-0.122282</td>\n",
       "      <td>1.097417</td>\n",
       "      <td>1.125176</td>\n",
       "      <td>-1.143031</td>\n",
       "      <td>0.453967</td>\n",
       "      <td>0.935177</td>\n",
       "      <td>0.230557</td>\n",
       "      <td>1.325316</td>\n",
       "      <td>0.949319</td>\n",
       "    </tr>\n",
       "  </tbody>\n",
       "</table>\n",
       "</div>"
      ],
      "text/plain": [
       "    Alcohol  Malic acid       Ash  Alcalinity of ash   Magnesium  \\\n",
       "0  1.518613   -0.562250  0.232053           -1.169593   1.913905   \n",
       "1  0.246290   -0.499413 -0.827996           -2.490847   0.018145   \n",
       "2  0.196879    0.021231  1.109334           -0.268738   0.088358   \n",
       "3  1.691550   -0.346811  0.487926           -0.809251   0.930918   \n",
       "4  0.295700    0.227694  1.840403            0.451946   1.281985   \n",
       "5  1.481555   -0.517367  0.305159           -1.289707   0.860705   \n",
       "6  1.716255   -0.418624  0.305159           -1.469878  -0.262708   \n",
       "7  1.308617   -0.167278  0.890014           -0.569023   1.492625   \n",
       "8  2.259772   -0.625086 -0.718336           -1.650049  -0.192495   \n",
       "9  1.061565   -0.885409 -0.352802           -1.049479  -0.122282   \n",
       "\n",
       "   Total phenols  Flavanoids  Nonflavanoid phenols  Proanthocyanins  \\\n",
       "0       0.808997    1.034819             -0.659563         1.224884   \n",
       "1       0.568648    0.733629             -0.820719        -0.544721   \n",
       "2       0.808997    1.215533             -0.498407         2.135968   \n",
       "3       2.491446    1.466525             -0.981875         1.032155   \n",
       "4       0.808997    0.663351              0.226796         0.401404   \n",
       "5       1.562093    1.366128             -0.176095         0.664217   \n",
       "6       0.328298    0.492677             -0.498407         0.681738   \n",
       "7       0.488531    0.482637             -0.417829        -0.597284   \n",
       "8       0.808997    0.954502             -0.578985         0.681738   \n",
       "9       1.097417    1.125176             -1.143031         0.453967   \n",
       "\n",
       "   Color intensity       Hue  OD280/OD315 of diluted wines   Proline  \n",
       "0         0.251717  0.362177                      1.847920  1.013009  \n",
       "1        -0.293321  0.406051                      1.113449  0.965242  \n",
       "2         0.269020  0.318304                      0.788587  1.395148  \n",
       "3         1.186068 -0.427544                      1.184071  2.334574  \n",
       "4        -0.319276  0.362177                      0.449601 -0.037874  \n",
       "5         0.731870  0.406051                      0.336606  2.239039  \n",
       "6         0.083015  0.274431                      1.367689  1.729520  \n",
       "7        -0.003499  0.449924                      1.367689  1.745442  \n",
       "8         0.061386  0.537671                      0.336606  0.949319  \n",
       "9         0.935177  0.230557                      1.325316  0.949319  "
      ]
     },
     "execution_count": 19,
     "metadata": {},
     "output_type": "execute_result"
    }
   ],
   "source": [
    "scaled_df.head(10)"
   ]
  },
  {
   "cell_type": "code",
   "execution_count": 17,
   "metadata": {
    "collapsed": true
   },
   "outputs": [],
   "source": [
    "className = df['Class']"
   ]
  },
  {
   "cell_type": "code",
   "execution_count": 22,
   "metadata": {
    "collapsed": true
   },
   "outputs": [],
   "source": [
    "df_clean = pd.concat([className,scaled_df], axis=1, join_axes=[df.index])"
   ]
  },
  {
   "cell_type": "code",
   "execution_count": 23,
   "metadata": {
    "collapsed": false
   },
   "outputs": [
    {
     "data": {
      "text/html": [
       "<div>\n",
       "<table border=\"1\" class=\"dataframe\">\n",
       "  <thead>\n",
       "    <tr style=\"text-align: right;\">\n",
       "      <th></th>\n",
       "      <th>Class</th>\n",
       "      <th>Alcohol</th>\n",
       "      <th>Malic acid</th>\n",
       "      <th>Ash</th>\n",
       "      <th>Alcalinity of ash</th>\n",
       "      <th>Magnesium</th>\n",
       "      <th>Total phenols</th>\n",
       "      <th>Flavanoids</th>\n",
       "      <th>Nonflavanoid phenols</th>\n",
       "      <th>Proanthocyanins</th>\n",
       "      <th>Color intensity</th>\n",
       "      <th>Hue</th>\n",
       "      <th>OD280/OD315 of diluted wines</th>\n",
       "      <th>Proline</th>\n",
       "    </tr>\n",
       "  </thead>\n",
       "  <tbody>\n",
       "    <tr>\n",
       "      <th>0</th>\n",
       "      <td>1</td>\n",
       "      <td>1.518613</td>\n",
       "      <td>-0.562250</td>\n",
       "      <td>0.232053</td>\n",
       "      <td>-1.169593</td>\n",
       "      <td>1.913905</td>\n",
       "      <td>0.808997</td>\n",
       "      <td>1.034819</td>\n",
       "      <td>-0.659563</td>\n",
       "      <td>1.224884</td>\n",
       "      <td>0.251717</td>\n",
       "      <td>0.362177</td>\n",
       "      <td>1.847920</td>\n",
       "      <td>1.013009</td>\n",
       "    </tr>\n",
       "    <tr>\n",
       "      <th>1</th>\n",
       "      <td>1</td>\n",
       "      <td>0.246290</td>\n",
       "      <td>-0.499413</td>\n",
       "      <td>-0.827996</td>\n",
       "      <td>-2.490847</td>\n",
       "      <td>0.018145</td>\n",
       "      <td>0.568648</td>\n",
       "      <td>0.733629</td>\n",
       "      <td>-0.820719</td>\n",
       "      <td>-0.544721</td>\n",
       "      <td>-0.293321</td>\n",
       "      <td>0.406051</td>\n",
       "      <td>1.113449</td>\n",
       "      <td>0.965242</td>\n",
       "    </tr>\n",
       "    <tr>\n",
       "      <th>2</th>\n",
       "      <td>1</td>\n",
       "      <td>0.196879</td>\n",
       "      <td>0.021231</td>\n",
       "      <td>1.109334</td>\n",
       "      <td>-0.268738</td>\n",
       "      <td>0.088358</td>\n",
       "      <td>0.808997</td>\n",
       "      <td>1.215533</td>\n",
       "      <td>-0.498407</td>\n",
       "      <td>2.135968</td>\n",
       "      <td>0.269020</td>\n",
       "      <td>0.318304</td>\n",
       "      <td>0.788587</td>\n",
       "      <td>1.395148</td>\n",
       "    </tr>\n",
       "    <tr>\n",
       "      <th>3</th>\n",
       "      <td>1</td>\n",
       "      <td>1.691550</td>\n",
       "      <td>-0.346811</td>\n",
       "      <td>0.487926</td>\n",
       "      <td>-0.809251</td>\n",
       "      <td>0.930918</td>\n",
       "      <td>2.491446</td>\n",
       "      <td>1.466525</td>\n",
       "      <td>-0.981875</td>\n",
       "      <td>1.032155</td>\n",
       "      <td>1.186068</td>\n",
       "      <td>-0.427544</td>\n",
       "      <td>1.184071</td>\n",
       "      <td>2.334574</td>\n",
       "    </tr>\n",
       "    <tr>\n",
       "      <th>4</th>\n",
       "      <td>1</td>\n",
       "      <td>0.295700</td>\n",
       "      <td>0.227694</td>\n",
       "      <td>1.840403</td>\n",
       "      <td>0.451946</td>\n",
       "      <td>1.281985</td>\n",
       "      <td>0.808997</td>\n",
       "      <td>0.663351</td>\n",
       "      <td>0.226796</td>\n",
       "      <td>0.401404</td>\n",
       "      <td>-0.319276</td>\n",
       "      <td>0.362177</td>\n",
       "      <td>0.449601</td>\n",
       "      <td>-0.037874</td>\n",
       "    </tr>\n",
       "  </tbody>\n",
       "</table>\n",
       "</div>"
      ],
      "text/plain": [
       "   Class   Alcohol  Malic acid       Ash  Alcalinity of ash   Magnesium  \\\n",
       "0      1  1.518613   -0.562250  0.232053           -1.169593   1.913905   \n",
       "1      1  0.246290   -0.499413 -0.827996           -2.490847   0.018145   \n",
       "2      1  0.196879    0.021231  1.109334           -0.268738   0.088358   \n",
       "3      1  1.691550   -0.346811  0.487926           -0.809251   0.930918   \n",
       "4      1  0.295700    0.227694  1.840403            0.451946   1.281985   \n",
       "\n",
       "   Total phenols  Flavanoids  Nonflavanoid phenols  Proanthocyanins  \\\n",
       "0       0.808997    1.034819             -0.659563         1.224884   \n",
       "1       0.568648    0.733629             -0.820719        -0.544721   \n",
       "2       0.808997    1.215533             -0.498407         2.135968   \n",
       "3       2.491446    1.466525             -0.981875         1.032155   \n",
       "4       0.808997    0.663351              0.226796         0.401404   \n",
       "\n",
       "   Color intensity       Hue  OD280/OD315 of diluted wines   Proline  \n",
       "0         0.251717  0.362177                      1.847920  1.013009  \n",
       "1        -0.293321  0.406051                      1.113449  0.965242  \n",
       "2         0.269020  0.318304                      0.788587  1.395148  \n",
       "3         1.186068 -0.427544                      1.184071  2.334574  \n",
       "4        -0.319276  0.362177                      0.449601 -0.037874  "
      ]
     },
     "execution_count": 23,
     "metadata": {},
     "output_type": "execute_result"
    }
   ],
   "source": [
    "df_clean.head()"
   ]
  },
  {
   "cell_type": "code",
   "execution_count": 18,
   "metadata": {
    "collapsed": true
   },
   "outputs": [],
   "source": [
    "from sklearn import manifold\n",
    "from sklearn.metrics import euclidean_distances"
   ]
  },
  {
   "cell_type": "code",
   "execution_count": 1,
   "metadata": {
    "collapsed": true
   },
   "outputs": [],
   "source": [
    "import numpy as np"
   ]
  },
  {
   "cell_type": "markdown",
   "metadata": {},
   "source": [
    "Caculate the similarity of records using euclidean distance"
   ]
  },
  {
   "cell_type": "code",
   "execution_count": 29,
   "metadata": {
    "collapsed": true
   },
   "outputs": [],
   "source": [
    "similarities = euclidean_distances(scaled_df)"
   ]
  },
  {
   "cell_type": "code",
   "execution_count": 30,
   "metadata": {
    "collapsed": false
   },
   "outputs": [],
   "source": [
    "seed = np.random.RandomState(seed=3)"
   ]
  },
  {
   "cell_type": "markdown",
   "metadata": {},
   "source": [
    "Set up the parameters for MDS and get an instance"
   ]
  },
  {
   "cell_type": "code",
   "execution_count": 31,
   "metadata": {
    "collapsed": false
   },
   "outputs": [],
   "source": [
    "mds = manifold.MDS(n_components=2, max_iter=3000, eps=1e-9, \n",
    "      random_state=seed, dissimilarity=\"precomputed\", n_jobs=1)"
   ]
  },
  {
   "cell_type": "markdown",
   "metadata": {},
   "source": [
    "Using MDS to reduce the dimensions of original dato to 2 dimensions"
   ]
  },
  {
   "cell_type": "code",
   "execution_count": 32,
   "metadata": {
    "collapsed": false
   },
   "outputs": [],
   "source": [
    "dt_2Dims = mds.fit(similarities).embedding_"
   ]
  },
  {
   "cell_type": "code",
   "execution_count": 33,
   "metadata": {
    "collapsed": false
   },
   "outputs": [
    {
     "data": {
      "text/plain": [
       "(178, 2)"
      ]
     },
     "execution_count": 33,
     "metadata": {},
     "output_type": "execute_result"
    }
   ],
   "source": [
    "dt_2Dims.shape"
   ]
  },
  {
   "cell_type": "markdown",
   "metadata": {},
   "source": [
    "Store the data in Pandas dataframe"
   ]
  },
  {
   "cell_type": "code",
   "execution_count": 40,
   "metadata": {
    "collapsed": false
   },
   "outputs": [],
   "source": [
    "df_2Dims = pd.DataFrame(dt_2Dims,columns=['x','y'])"
   ]
  },
  {
   "cell_type": "code",
   "execution_count": 41,
   "metadata": {
    "collapsed": false
   },
   "outputs": [
    {
     "data": {
      "text/html": [
       "<div>\n",
       "<table border=\"1\" class=\"dataframe\">\n",
       "  <thead>\n",
       "    <tr style=\"text-align: right;\">\n",
       "      <th></th>\n",
       "      <th>x</th>\n",
       "      <th>y</th>\n",
       "    </tr>\n",
       "  </thead>\n",
       "  <tbody>\n",
       "    <tr>\n",
       "      <th>0</th>\n",
       "      <td>-4.195124</td>\n",
       "      <td>-0.222207</td>\n",
       "    </tr>\n",
       "    <tr>\n",
       "      <th>1</th>\n",
       "      <td>-2.619510</td>\n",
       "      <td>-1.532374</td>\n",
       "    </tr>\n",
       "    <tr>\n",
       "      <th>2</th>\n",
       "      <td>-3.159561</td>\n",
       "      <td>0.397028</td>\n",
       "    </tr>\n",
       "    <tr>\n",
       "      <th>3</th>\n",
       "      <td>-4.904005</td>\n",
       "      <td>1.405682</td>\n",
       "    </tr>\n",
       "    <tr>\n",
       "      <th>4</th>\n",
       "      <td>-1.292808</td>\n",
       "      <td>1.380178</td>\n",
       "    </tr>\n",
       "    <tr>\n",
       "      <th>5</th>\n",
       "      <td>-3.958353</td>\n",
       "      <td>1.244124</td>\n",
       "    </tr>\n",
       "    <tr>\n",
       "      <th>6</th>\n",
       "      <td>-3.180071</td>\n",
       "      <td>0.203522</td>\n",
       "    </tr>\n",
       "    <tr>\n",
       "      <th>7</th>\n",
       "      <td>-2.640503</td>\n",
       "      <td>1.744599</td>\n",
       "    </tr>\n",
       "    <tr>\n",
       "      <th>8</th>\n",
       "      <td>-3.461731</td>\n",
       "      <td>-0.450654</td>\n",
       "    </tr>\n",
       "    <tr>\n",
       "      <th>9</th>\n",
       "      <td>-3.141212</td>\n",
       "      <td>-0.446615</td>\n",
       "    </tr>\n",
       "    <tr>\n",
       "      <th>10</th>\n",
       "      <td>-4.259651</td>\n",
       "      <td>0.164148</td>\n",
       "    </tr>\n",
       "  </tbody>\n",
       "</table>\n",
       "</div>"
      ],
      "text/plain": [
       "           x         y\n",
       "0  -4.195124 -0.222207\n",
       "1  -2.619510 -1.532374\n",
       "2  -3.159561  0.397028\n",
       "3  -4.904005  1.405682\n",
       "4  -1.292808  1.380178\n",
       "5  -3.958353  1.244124\n",
       "6  -3.180071  0.203522\n",
       "7  -2.640503  1.744599\n",
       "8  -3.461731 -0.450654\n",
       "9  -3.141212 -0.446615\n",
       "10 -4.259651  0.164148"
      ]
     },
     "execution_count": 41,
     "metadata": {},
     "output_type": "execute_result"
    }
   ],
   "source": [
    "df_2Dims.ix[:10,]"
   ]
  },
  {
   "cell_type": "code",
   "execution_count": 42,
   "metadata": {
    "collapsed": false
   },
   "outputs": [],
   "source": [
    "dt_allFeatures = pd.concat([df_clean, df_2Dims], axis=1, join_axes=[df.index])"
   ]
  },
  {
   "cell_type": "code",
   "execution_count": 43,
   "metadata": {
    "collapsed": false
   },
   "outputs": [
    {
     "data": {
      "text/html": [
       "<div>\n",
       "<table border=\"1\" class=\"dataframe\">\n",
       "  <thead>\n",
       "    <tr style=\"text-align: right;\">\n",
       "      <th></th>\n",
       "      <th>Class</th>\n",
       "      <th>Alcohol</th>\n",
       "      <th>Malic acid</th>\n",
       "      <th>Ash</th>\n",
       "      <th>Alcalinity of ash</th>\n",
       "      <th>Magnesium</th>\n",
       "      <th>Total phenols</th>\n",
       "      <th>Flavanoids</th>\n",
       "      <th>Nonflavanoid phenols</th>\n",
       "      <th>Proanthocyanins</th>\n",
       "      <th>Color intensity</th>\n",
       "      <th>Hue</th>\n",
       "      <th>OD280/OD315 of diluted wines</th>\n",
       "      <th>Proline</th>\n",
       "      <th>x</th>\n",
       "      <th>y</th>\n",
       "    </tr>\n",
       "  </thead>\n",
       "  <tbody>\n",
       "    <tr>\n",
       "      <th>0</th>\n",
       "      <td>1</td>\n",
       "      <td>1.518613</td>\n",
       "      <td>-0.562250</td>\n",
       "      <td>0.232053</td>\n",
       "      <td>-1.169593</td>\n",
       "      <td>1.913905</td>\n",
       "      <td>0.808997</td>\n",
       "      <td>1.034819</td>\n",
       "      <td>-0.659563</td>\n",
       "      <td>1.224884</td>\n",
       "      <td>0.251717</td>\n",
       "      <td>0.362177</td>\n",
       "      <td>1.847920</td>\n",
       "      <td>1.013009</td>\n",
       "      <td>-4.195124</td>\n",
       "      <td>-0.222207</td>\n",
       "    </tr>\n",
       "    <tr>\n",
       "      <th>1</th>\n",
       "      <td>1</td>\n",
       "      <td>0.246290</td>\n",
       "      <td>-0.499413</td>\n",
       "      <td>-0.827996</td>\n",
       "      <td>-2.490847</td>\n",
       "      <td>0.018145</td>\n",
       "      <td>0.568648</td>\n",
       "      <td>0.733629</td>\n",
       "      <td>-0.820719</td>\n",
       "      <td>-0.544721</td>\n",
       "      <td>-0.293321</td>\n",
       "      <td>0.406051</td>\n",
       "      <td>1.113449</td>\n",
       "      <td>0.965242</td>\n",
       "      <td>-2.619510</td>\n",
       "      <td>-1.532374</td>\n",
       "    </tr>\n",
       "    <tr>\n",
       "      <th>2</th>\n",
       "      <td>1</td>\n",
       "      <td>0.196879</td>\n",
       "      <td>0.021231</td>\n",
       "      <td>1.109334</td>\n",
       "      <td>-0.268738</td>\n",
       "      <td>0.088358</td>\n",
       "      <td>0.808997</td>\n",
       "      <td>1.215533</td>\n",
       "      <td>-0.498407</td>\n",
       "      <td>2.135968</td>\n",
       "      <td>0.269020</td>\n",
       "      <td>0.318304</td>\n",
       "      <td>0.788587</td>\n",
       "      <td>1.395148</td>\n",
       "      <td>-3.159561</td>\n",
       "      <td>0.397028</td>\n",
       "    </tr>\n",
       "    <tr>\n",
       "      <th>3</th>\n",
       "      <td>1</td>\n",
       "      <td>1.691550</td>\n",
       "      <td>-0.346811</td>\n",
       "      <td>0.487926</td>\n",
       "      <td>-0.809251</td>\n",
       "      <td>0.930918</td>\n",
       "      <td>2.491446</td>\n",
       "      <td>1.466525</td>\n",
       "      <td>-0.981875</td>\n",
       "      <td>1.032155</td>\n",
       "      <td>1.186068</td>\n",
       "      <td>-0.427544</td>\n",
       "      <td>1.184071</td>\n",
       "      <td>2.334574</td>\n",
       "      <td>-4.904005</td>\n",
       "      <td>1.405682</td>\n",
       "    </tr>\n",
       "    <tr>\n",
       "      <th>4</th>\n",
       "      <td>1</td>\n",
       "      <td>0.295700</td>\n",
       "      <td>0.227694</td>\n",
       "      <td>1.840403</td>\n",
       "      <td>0.451946</td>\n",
       "      <td>1.281985</td>\n",
       "      <td>0.808997</td>\n",
       "      <td>0.663351</td>\n",
       "      <td>0.226796</td>\n",
       "      <td>0.401404</td>\n",
       "      <td>-0.319276</td>\n",
       "      <td>0.362177</td>\n",
       "      <td>0.449601</td>\n",
       "      <td>-0.037874</td>\n",
       "      <td>-1.292808</td>\n",
       "      <td>1.380178</td>\n",
       "    </tr>\n",
       "    <tr>\n",
       "      <th>5</th>\n",
       "      <td>1</td>\n",
       "      <td>1.481555</td>\n",
       "      <td>-0.517367</td>\n",
       "      <td>0.305159</td>\n",
       "      <td>-1.289707</td>\n",
       "      <td>0.860705</td>\n",
       "      <td>1.562093</td>\n",
       "      <td>1.366128</td>\n",
       "      <td>-0.176095</td>\n",
       "      <td>0.664217</td>\n",
       "      <td>0.731870</td>\n",
       "      <td>0.406051</td>\n",
       "      <td>0.336606</td>\n",
       "      <td>2.239039</td>\n",
       "      <td>-3.958353</td>\n",
       "      <td>1.244124</td>\n",
       "    </tr>\n",
       "    <tr>\n",
       "      <th>6</th>\n",
       "      <td>1</td>\n",
       "      <td>1.716255</td>\n",
       "      <td>-0.418624</td>\n",
       "      <td>0.305159</td>\n",
       "      <td>-1.469878</td>\n",
       "      <td>-0.262708</td>\n",
       "      <td>0.328298</td>\n",
       "      <td>0.492677</td>\n",
       "      <td>-0.498407</td>\n",
       "      <td>0.681738</td>\n",
       "      <td>0.083015</td>\n",
       "      <td>0.274431</td>\n",
       "      <td>1.367689</td>\n",
       "      <td>1.729520</td>\n",
       "      <td>-3.180071</td>\n",
       "      <td>0.203522</td>\n",
       "    </tr>\n",
       "    <tr>\n",
       "      <th>7</th>\n",
       "      <td>1</td>\n",
       "      <td>1.308617</td>\n",
       "      <td>-0.167278</td>\n",
       "      <td>0.890014</td>\n",
       "      <td>-0.569023</td>\n",
       "      <td>1.492625</td>\n",
       "      <td>0.488531</td>\n",
       "      <td>0.482637</td>\n",
       "      <td>-0.417829</td>\n",
       "      <td>-0.597284</td>\n",
       "      <td>-0.003499</td>\n",
       "      <td>0.449924</td>\n",
       "      <td>1.367689</td>\n",
       "      <td>1.745442</td>\n",
       "      <td>-2.640503</td>\n",
       "      <td>1.744599</td>\n",
       "    </tr>\n",
       "    <tr>\n",
       "      <th>8</th>\n",
       "      <td>1</td>\n",
       "      <td>2.259772</td>\n",
       "      <td>-0.625086</td>\n",
       "      <td>-0.718336</td>\n",
       "      <td>-1.650049</td>\n",
       "      <td>-0.192495</td>\n",
       "      <td>0.808997</td>\n",
       "      <td>0.954502</td>\n",
       "      <td>-0.578985</td>\n",
       "      <td>0.681738</td>\n",
       "      <td>0.061386</td>\n",
       "      <td>0.537671</td>\n",
       "      <td>0.336606</td>\n",
       "      <td>0.949319</td>\n",
       "      <td>-3.461731</td>\n",
       "      <td>-0.450654</td>\n",
       "    </tr>\n",
       "    <tr>\n",
       "      <th>9</th>\n",
       "      <td>1</td>\n",
       "      <td>1.061565</td>\n",
       "      <td>-0.885409</td>\n",
       "      <td>-0.352802</td>\n",
       "      <td>-1.049479</td>\n",
       "      <td>-0.122282</td>\n",
       "      <td>1.097417</td>\n",
       "      <td>1.125176</td>\n",
       "      <td>-1.143031</td>\n",
       "      <td>0.453967</td>\n",
       "      <td>0.935177</td>\n",
       "      <td>0.230557</td>\n",
       "      <td>1.325316</td>\n",
       "      <td>0.949319</td>\n",
       "      <td>-3.141212</td>\n",
       "      <td>-0.446615</td>\n",
       "    </tr>\n",
       "    <tr>\n",
       "      <th>10</th>\n",
       "      <td>1</td>\n",
       "      <td>1.358028</td>\n",
       "      <td>-0.158301</td>\n",
       "      <td>-0.243142</td>\n",
       "      <td>-0.448909</td>\n",
       "      <td>0.369212</td>\n",
       "      <td>1.049347</td>\n",
       "      <td>1.295850</td>\n",
       "      <td>-1.143031</td>\n",
       "      <td>1.382572</td>\n",
       "      <td>0.299300</td>\n",
       "      <td>1.283518</td>\n",
       "      <td>0.788587</td>\n",
       "      <td>2.430109</td>\n",
       "      <td>-4.259651</td>\n",
       "      <td>0.164148</td>\n",
       "    </tr>\n",
       "  </tbody>\n",
       "</table>\n",
       "</div>"
      ],
      "text/plain": [
       "    Class   Alcohol  Malic acid       Ash  Alcalinity of ash   Magnesium  \\\n",
       "0       1  1.518613   -0.562250  0.232053           -1.169593   1.913905   \n",
       "1       1  0.246290   -0.499413 -0.827996           -2.490847   0.018145   \n",
       "2       1  0.196879    0.021231  1.109334           -0.268738   0.088358   \n",
       "3       1  1.691550   -0.346811  0.487926           -0.809251   0.930918   \n",
       "4       1  0.295700    0.227694  1.840403            0.451946   1.281985   \n",
       "5       1  1.481555   -0.517367  0.305159           -1.289707   0.860705   \n",
       "6       1  1.716255   -0.418624  0.305159           -1.469878  -0.262708   \n",
       "7       1  1.308617   -0.167278  0.890014           -0.569023   1.492625   \n",
       "8       1  2.259772   -0.625086 -0.718336           -1.650049  -0.192495   \n",
       "9       1  1.061565   -0.885409 -0.352802           -1.049479  -0.122282   \n",
       "10      1  1.358028   -0.158301 -0.243142           -0.448909   0.369212   \n",
       "\n",
       "    Total phenols  Flavanoids  Nonflavanoid phenols  Proanthocyanins  \\\n",
       "0        0.808997    1.034819             -0.659563         1.224884   \n",
       "1        0.568648    0.733629             -0.820719        -0.544721   \n",
       "2        0.808997    1.215533             -0.498407         2.135968   \n",
       "3        2.491446    1.466525             -0.981875         1.032155   \n",
       "4        0.808997    0.663351              0.226796         0.401404   \n",
       "5        1.562093    1.366128             -0.176095         0.664217   \n",
       "6        0.328298    0.492677             -0.498407         0.681738   \n",
       "7        0.488531    0.482637             -0.417829        -0.597284   \n",
       "8        0.808997    0.954502             -0.578985         0.681738   \n",
       "9        1.097417    1.125176             -1.143031         0.453967   \n",
       "10       1.049347    1.295850             -1.143031         1.382572   \n",
       "\n",
       "    Color intensity       Hue  OD280/OD315 of diluted wines   Proline  \\\n",
       "0          0.251717  0.362177                      1.847920  1.013009   \n",
       "1         -0.293321  0.406051                      1.113449  0.965242   \n",
       "2          0.269020  0.318304                      0.788587  1.395148   \n",
       "3          1.186068 -0.427544                      1.184071  2.334574   \n",
       "4         -0.319276  0.362177                      0.449601 -0.037874   \n",
       "5          0.731870  0.406051                      0.336606  2.239039   \n",
       "6          0.083015  0.274431                      1.367689  1.729520   \n",
       "7         -0.003499  0.449924                      1.367689  1.745442   \n",
       "8          0.061386  0.537671                      0.336606  0.949319   \n",
       "9          0.935177  0.230557                      1.325316  0.949319   \n",
       "10         0.299300  1.283518                      0.788587  2.430109   \n",
       "\n",
       "           x         y  \n",
       "0  -4.195124 -0.222207  \n",
       "1  -2.619510 -1.532374  \n",
       "2  -3.159561  0.397028  \n",
       "3  -4.904005  1.405682  \n",
       "4  -1.292808  1.380178  \n",
       "5  -3.958353  1.244124  \n",
       "6  -3.180071  0.203522  \n",
       "7  -2.640503  1.744599  \n",
       "8  -3.461731 -0.450654  \n",
       "9  -3.141212 -0.446615  \n",
       "10 -4.259651  0.164148  "
      ]
     },
     "execution_count": 43,
     "metadata": {},
     "output_type": "execute_result"
    }
   ],
   "source": [
    "dt_allFeatures.ix[:10,]"
   ]
  },
  {
   "cell_type": "code",
   "execution_count": 44,
   "metadata": {
    "collapsed": false
   },
   "outputs": [],
   "source": [
    "df4Vis= dt_allFeatures[['Class','x','y']]"
   ]
  },
  {
   "cell_type": "code",
   "execution_count": 46,
   "metadata": {
    "collapsed": false
   },
   "outputs": [
    {
     "data": {
      "text/html": [
       "<div>\n",
       "<table border=\"1\" class=\"dataframe\">\n",
       "  <thead>\n",
       "    <tr style=\"text-align: right;\">\n",
       "      <th></th>\n",
       "      <th>Class</th>\n",
       "      <th>x</th>\n",
       "      <th>y</th>\n",
       "    </tr>\n",
       "  </thead>\n",
       "  <tbody>\n",
       "    <tr>\n",
       "      <th>0</th>\n",
       "      <td>1</td>\n",
       "      <td>-4.195124</td>\n",
       "      <td>-0.222207</td>\n",
       "    </tr>\n",
       "    <tr>\n",
       "      <th>1</th>\n",
       "      <td>1</td>\n",
       "      <td>-2.619510</td>\n",
       "      <td>-1.532374</td>\n",
       "    </tr>\n",
       "    <tr>\n",
       "      <th>2</th>\n",
       "      <td>1</td>\n",
       "      <td>-3.159561</td>\n",
       "      <td>0.397028</td>\n",
       "    </tr>\n",
       "    <tr>\n",
       "      <th>3</th>\n",
       "      <td>1</td>\n",
       "      <td>-4.904005</td>\n",
       "      <td>1.405682</td>\n",
       "    </tr>\n",
       "    <tr>\n",
       "      <th>4</th>\n",
       "      <td>1</td>\n",
       "      <td>-1.292808</td>\n",
       "      <td>1.380178</td>\n",
       "    </tr>\n",
       "    <tr>\n",
       "      <th>5</th>\n",
       "      <td>1</td>\n",
       "      <td>-3.958353</td>\n",
       "      <td>1.244124</td>\n",
       "    </tr>\n",
       "    <tr>\n",
       "      <th>6</th>\n",
       "      <td>1</td>\n",
       "      <td>-3.180071</td>\n",
       "      <td>0.203522</td>\n",
       "    </tr>\n",
       "    <tr>\n",
       "      <th>7</th>\n",
       "      <td>1</td>\n",
       "      <td>-2.640503</td>\n",
       "      <td>1.744599</td>\n",
       "    </tr>\n",
       "    <tr>\n",
       "      <th>8</th>\n",
       "      <td>1</td>\n",
       "      <td>-3.461731</td>\n",
       "      <td>-0.450654</td>\n",
       "    </tr>\n",
       "    <tr>\n",
       "      <th>9</th>\n",
       "      <td>1</td>\n",
       "      <td>-3.141212</td>\n",
       "      <td>-0.446615</td>\n",
       "    </tr>\n",
       "  </tbody>\n",
       "</table>\n",
       "</div>"
      ],
      "text/plain": [
       "   Class         x         y\n",
       "0      1 -4.195124 -0.222207\n",
       "1      1 -2.619510 -1.532374\n",
       "2      1 -3.159561  0.397028\n",
       "3      1 -4.904005  1.405682\n",
       "4      1 -1.292808  1.380178\n",
       "5      1 -3.958353  1.244124\n",
       "6      1 -3.180071  0.203522\n",
       "7      1 -2.640503  1.744599\n",
       "8      1 -3.461731 -0.450654\n",
       "9      1 -3.141212 -0.446615"
      ]
     },
     "execution_count": 46,
     "metadata": {},
     "output_type": "execute_result"
    }
   ],
   "source": [
    "df4Vis.head(10)"
   ]
  },
  {
   "cell_type": "code",
   "execution_count": 47,
   "metadata": {
    "collapsed": false
   },
   "outputs": [],
   "source": [
    "%matplotlib inline\n",
    "import matplotlib.pyplot as plt"
   ]
  },
  {
   "cell_type": "code",
   "execution_count": 48,
   "metadata": {
    "collapsed": true
   },
   "outputs": [],
   "source": [
    "x=df4Vis['x']\n",
    "y=df4Vis['y']\n",
    "color=df4Vis['Class']"
   ]
  },
  {
   "cell_type": "code",
   "execution_count": 49,
   "metadata": {
    "collapsed": false
   },
   "outputs": [
    {
     "data": {
      "text/plain": [
       "<matplotlib.collections.PathCollection at 0x7f2c6130b978>"
      ]
     },
     "execution_count": 49,
     "metadata": {},
     "output_type": "execute_result"
    },
    {
     "data": {
      "image/png": "[encoded data removed]",
      "text/plain": [
       "<matplotlib.figure.Figure at 0x7f2c615efeb8>"
      ]
     },
     "metadata": {},
     "output_type": "display_data"
    }
   ],
   "source": [
    "plt.scatter(x, y,c=color, alpha=0.5)\n"
   ]
  },
  {
   "cell_type": "code",
   "execution_count": 50,
   "metadata": {
    "collapsed": true
   },
   "outputs": [],
   "source": [
    "df_json = df4Vis.to_json(orient='records')"
   ]
  },
  {
   "cell_type": "code",
   "execution_count": 51,
   "metadata": {
    "collapsed": false
   },
   "outputs": [
    {
     "data": {
      "text/plain": [
       "'[{\"Class\":1,\"x\":-4.1951240038,\"y\":-0.2222069811},{\"Class\":1,\"x\":-2.6195095969,\"y\":-1.532374287},{\"Class\":1,\"x\":-3.1595605293,\"y\":0.3970279904},{\"Class\":1,\"x\":-4.9040051029,\"y\":1.4056820441},{\"Class\":1,\"x\":-1.2928084143,\"y\":1.3801782708},{\"Class\":1,\"x\":-3.9583525169,\"y\":1.2441240246},{\"Class\":1,\"x\":-3.1800705978,\"y\":0.2035219504},{\"Class\":1,\"x\":-2.6405026701,\"y\":1.7445985515},{\"Class\":1,\"x\":-3.4617310701,\"y\":-0.4506542235},{\"Class\":1,\"x\":-3.1412116563,\"y\":-0.4466152656},{\"Class\":1,\"x\":-4.2596513379,\"y\":0.1641483915},{\"Class\":1,\"x\":-2.0506643504,\"y\":0.2089318545},{\"Class\":1,\"x\":-2.4442626249,\"y\":-0.0200439309},{\"Class\":1,\"x\":-5.1908439369,\"y\":-0.2645384898},{\"Class\":1,\"x\":-5.5782483325,\"y\":0.6102753437},{\"Class\":1,\"x\":-2.9942378413,\"y\":1.5629162688},{\"Class\":1,\"x\":-2.9864612944,\"y\":1.9475994219},{\"Class\":1,\"x\":-2.4229071133,\"y\":1.5732672323},{\"Class\":1,\"x\":-4.7608121439,\"y\":1.7188690105},{\"Class\":1,\"x\":-2.4263711209,\"y\":1.1081242007},{\"Class\":1,\"x\":-3.736098246,\"y\":-0.9370977122},{\"Class\":1,\"x\":-1.0538135906,\"y\":0.387918871},{\"Class\":1,\"x\":-2.4858338072,\"y\":-0.9254956516},{\"Class\":1,\"x\":-1.3866731008,\"y\":-0.843056514},{\"Class\":1,\"x\":-1.6192816046,\"y\":-0.8945838204},{\"Class\":1,\"x\":-3.4105819722,\"y\":-2.7101648891},{\"Class\":1,\"x\":-1.9570949406,\"y\":0.4711664952},{\"Class\":1,\"x\":-1.1853967189,\"y\":-0.2415845174},{\"Class\":1,\"x\":-2.4619037296,\"y\":0.4610204681},{\"Class\":1,\"x\":-2.4078589631,\"y\":-0.6731277629},{\"Class\":1,\"x\":-3.3005876842,\"y\":1.3331699801},{\"Class\":1,\"x\":-3.3926930798,\"y\":0.9177217504},{\"Class\":1,\"x\":-1.5621732733,\"y\":-0.2808906821},{\"Class\":1,\"x\":-2.9665521421,\"y\":2.5563215497},{\"Class\":1,\"x\":-1.504076587,\"y\":0.5552551812},{\"Class\":1,\"x\":-1.8200344857,\"y\":-0.4634784369},{\"Class\":1,\"x\":-1.5555229861,\"y\":0.9744327928},{\"Class\":1,\"x\":-1.0415393762,\"y\":0.0350644917},{\"Class\":1,\"x\":-1.2584926788,\"y\":-1.1306261857},{\"Class\":1,\"x\":-3.8395141747,\"y\":2.4266625298},{\"Class\":1,\"x\":-3.042646709,\"y\":-0.7666799684},{\"Class\":1,\"x\":-0.6438180997,\"y\":0.4875347581},{\"Class\":1,\"x\":-3.8197577698,\"y\":-0.0823909907},{\"Class\":1,\"x\":-0.468164121,\"y\":0.6143550464},{\"Class\":1,\"x\":-2.1098331412,\"y\":-1.0867008444},{\"Class\":1,\"x\":-1.8088769546,\"y\":2.0994781227},{\"Class\":1,\"x\":-3.7011873852,\"y\":0.0810537973},{\"Class\":1,\"x\":-3.2605005715,\"y\":-0.8049434455},{\"Class\":1,\"x\":-2.375823082,\"y\":0.6428320785},{\"Class\":1,\"x\":-3.6108180495,\"y\":1.0462806834},{\"Class\":1,\"x\":-4.2924194794,\"y\":-1.6126546106},{\"Class\":1,\"x\":-3.3499412311,\"y\":-0.2772809709},{\"Class\":1,\"x\":-4.4460313213,\"y\":0.6128310262},{\"Class\":1,\"x\":-2.8892895527,\"y\":1.5890265046},{\"Class\":1,\"x\":-2.5755514396,\"y\":0.1521000682},{\"Class\":1,\"x\":-3.0215448536,\"y\":0.6781201727},{\"Class\":1,\"x\":-3.4377596975,\"y\":0.2983618437},{\"Class\":1,\"x\":-2.5384171154,\"y\":0.8869504876},{\"Class\":1,\"x\":-3.9571751084,\"y\":0.7794565642},{\"Class\":2,\"x\":4.0653393826,\"y\":-4.606906759},{\"Class\":2,\"x\":4.2195436789,\"y\":-1.1551696723},{\"Class\":2,\"x\":3.2420248389,\"y\":-0.1051016821},{\"Class\":2,\"x\":0.5436496428,\"y\":-0.5994161236},{\"Class\":2,\"x\":-1.509529701,\"y\":-3.1079810704},{\"Class\":2,\"x\":2.5472810969,\"y\":-2.1396293625},{\"Class\":2,\"x\":-0.5586409784,\"y\":-0.9260574149},{\"Class\":2,\"x\":-2.029168453,\"y\":-3.6825127337},{\"Class\":2,\"x\":0.7703306417,\"y\":-3.006830839},{\"Class\":2,\"x\":1.0769478043,\"y\":0.9022746556},{\"Class\":2,\"x\":-2.0705671053,\"y\":-5.4454638363},{\"Class\":2,\"x\":2.0908165309,\"y\":0.0978277399},{\"Class\":2,\"x\":-2.2495255233,\"y\":-3.0656093715},{\"Class\":2,\"x\":1.0905879699,\"y\":-0.3504393246},{\"Class\":2,\"x\":-4.6610431921,\"y\":-3.1913184913},{\"Class\":2,\"x\":-1.6869991154,\"y\":-2.4733205006},{\"Class\":2,\"x\":2.4779409284,\"y\":-2.474746862},{\"Class\":2,\"x\":0.5104301341,\"y\":-3.5406554781},{\"Class\":2,\"x\":2.1788381379,\"y\":-0.4047575268},{\"Class\":2,\"x\":-1.638330656,\"y\":-4.1742059624},{\"Class\":2,\"x\":-0.0578088067,\"y\":-1.6004006695},{\"Class\":2,\"x\":0.628151649,\"y\":-3.7056685662},{\"Class\":2,\"x\":-0.5408480793,\"y\":-1.4318658526},{\"Class\":2,\"x\":2.103254502,\"y\":-2.646649336},{\"Class\":2,\"x\":3.0643668351,\"y\":0.698612824},{\"Class\":2,\"x\":-0.7116607287,\"y\":-2.6153105146},{\"Class\":2,\"x\":-0.0839766233,\"y\":-2.0296615673},{\"Class\":2,\"x\":2.101800992,\"y\":-1.8363658986},{\"Class\":2,\"x\":2.4390099866,\"y\":-3.1070252553},{\"Class\":2,\"x\":1.9651673126,\"y\":-1.1148281251},{\"Class\":2,\"x\":1.9222704826,\"y\":-2.7793229136},{\"Class\":2,\"x\":2.4714406418,\"y\":-1.3393565893},{\"Class\":2,\"x\":2.493353654,\"y\":-1.1228407344},{\"Class\":2,\"x\":3.0037581199,\"y\":-0.7187392631},{\"Class\":2,\"x\":-0.0193424393,\"y\":-2.6888239724},{\"Class\":2,\"x\":-0.3700690864,\"y\":-3.048988912},{\"Class\":2,\"x\":-4.4881219934,\"y\":-3.9140369799},{\"Class\":2,\"x\":3.4309664658,\"y\":-2.7459021207},{\"Class\":2,\"x\":-0.1111441454,\"y\":-2.9851069493},{\"Class\":2,\"x\":-2.01417898,\"y\":-2.6129496607},{\"Class\":2,\"x\":-0.5371029558,\"y\":-4.1084000329},{\"Class\":2,\"x\":0.1020855712,\"y\":-3.2732830967},{\"Class\":2,\"x\":1.5328743965,\"y\":-2.1242757967},{\"Class\":2,\"x\":0.5552505491,\"y\":-0.8431887247},{\"Class\":2,\"x\":1.554002367,\"y\":-2.5498910049},{\"Class\":2,\"x\":0.335026407,\"y\":-2.0734590024},{\"Class\":2,\"x\":3.3010775269,\"y\":-1.2178602597},{\"Class\":2,\"x\":1.1299648925,\"y\":-1.6856425529},{\"Class\":2,\"x\":2.1479638281,\"y\":-0.5584723674},{\"Class\":2,\"x\":0.6981550668,\"y\":-2.6079337392},{\"Class\":2,\"x\":-1.2893459814,\"y\":-2.8036899824},{\"Class\":2,\"x\":-1.0013059528,\"y\":-5.3647981737},{\"Class\":2,\"x\":0.8548632531,\"y\":-1.4904179166},{\"Class\":2,\"x\":3.6295366574,\"y\":-1.0939628197},{\"Class\":2,\"x\":1.848511774,\"y\":-2.2703844272},{\"Class\":2,\"x\":1.5522036544,\"y\":-1.6260452961},{\"Class\":2,\"x\":1.5459766488,\"y\":-4.9650711985},{\"Class\":2,\"x\":1.1923144369,\"y\":-2.7315760739},{\"Class\":2,\"x\":0.7963463409,\"y\":-1.7275072131},{\"Class\":2,\"x\":3.7712506806,\"y\":-0.0765354358},{\"Class\":2,\"x\":1.3997136211,\"y\":-2.2711162354},{\"Class\":2,\"x\":-0.487997543,\"y\":-2.1229380819},{\"Class\":2,\"x\":-3.6126342149,\"y\":-5.3371832439},{\"Class\":2,\"x\":3.4432370401,\"y\":-1.6584085659},{\"Class\":2,\"x\":1.9623733702,\"y\":-3.841066597},{\"Class\":2,\"x\":-2.446171953,\"y\":3.5955055619},{\"Class\":2,\"x\":0.7846771644,\"y\":-2.0075181752},{\"Class\":2,\"x\":0.4211825587,\"y\":-1.3840587388},{\"Class\":2,\"x\":3.9306092963,\"y\":-1.8453173835},{\"Class\":2,\"x\":1.3579583638,\"y\":-1.7255129811},{\"Class\":2,\"x\":2.6349157681,\"y\":-0.3357036672},{\"Class\":3,\"x\":0.402661078,\"y\":2.54671959},{\"Class\":3,\"x\":1.8406493549,\"y\":1.9587903717},{\"Class\":3,\"x\":2.8026799518,\"y\":2.0953673229},{\"Class\":3,\"x\":1.3951541577,\"y\":2.2836536631},{\"Class\":3,\"x\":3.5881872957,\"y\":0.3471926539},{\"Class\":3,\"x\":3.5728954343,\"y\":1.5182137471},{\"Class\":3,\"x\":4.4738722131,\"y\":1.476244361},{\"Class\":3,\"x\":4.7858065259,\"y\":1.8258342455},{\"Class\":3,\"x\":3.3358630892,\"y\":1.5823207497},{\"Class\":3,\"x\":2.4454769184,\"y\":1.0511490812},{\"Class\":3,\"x\":2.9164584899,\"y\":1.1561603235},{\"Class\":3,\"x\":1.9869401502,\"y\":1.4848054673},{\"Class\":3,\"x\":3.5487376478,\"y\":1.2678981475},{\"Class\":3,\"x\":2.5114781653,\"y\":1.5356005715},{\"Class\":3,\"x\":1.2716302587,\"y\":3.0137614398},{\"Class\":3,\"x\":2.403244926,\"y\":1.8901954443},{\"Class\":3,\"x\":4.7532152112,\"y\":2.6803877246},{\"Class\":3,\"x\":3.1383598586,\"y\":2.9404194749},{\"Class\":3,\"x\":2.0417886499,\"y\":2.8254522107},{\"Class\":3,\"x\":1.7348024759,\"y\":3.7959898108},{\"Class\":3,\"x\":0.563754071,\"y\":4.4693833326},{\"Class\":3,\"x\":1.0478393612,\"y\":4.405380269},{\"Class\":3,\"x\":0.126272485,\"y\":3.7938621181},{\"Class\":3,\"x\":2.0890323507,\"y\":4.0455600035},{\"Class\":3,\"x\":3.3217584612,\"y\":1.8621287585},{\"Class\":3,\"x\":3.2966659133,\"y\":3.5894422353},{\"Class\":3,\"x\":2.2303567255,\"y\":3.4871946453},{\"Class\":3,\"x\":3.6187686443,\"y\":2.9798049065},{\"Class\":3,\"x\":-1.1532356668,\"y\":5.5724517398},{\"Class\":3,\"x\":-0.3293755875,\"y\":4.6585494011},{\"Class\":3,\"x\":2.9462141475,\"y\":2.4214293801},{\"Class\":3,\"x\":1.6457019811,\"y\":2.0613478012},{\"Class\":3,\"x\":2.9200986441,\"y\":1.419213211},{\"Class\":3,\"x\":2.1205145877,\"y\":1.9065772509},{\"Class\":3,\"x\":2.2188646676,\"y\":3.1572392277},{\"Class\":3,\"x\":3.4593717983,\"y\":2.4237354933},{\"Class\":3,\"x\":0.9938284981,\"y\":3.8647629887},{\"Class\":3,\"x\":2.426933165,\"y\":2.9709796825},{\"Class\":3,\"x\":0.8364318251,\"y\":3.2619627066},{\"Class\":3,\"x\":0.6758055063,\"y\":4.3918512414},{\"Class\":3,\"x\":3.4172849299,\"y\":1.0939241857},{\"Class\":3,\"x\":3.7487833883,\"y\":2.7226968331},{\"Class\":3,\"x\":1.4806633077,\"y\":3.4695111117},{\"Class\":3,\"x\":2.9353331279,\"y\":3.7757696821},{\"Class\":3,\"x\":1.7079573244,\"y\":2.7812554298},{\"Class\":3,\"x\":1.4904974831,\"y\":4.3024377685},{\"Class\":3,\"x\":1.1962793847,\"y\":3.688373004},{\"Class\":3,\"x\":2.2364842467,\"y\":4.3787944472}]'"
      ]
     },
     "execution_count": 51,
     "metadata": {},
     "output_type": "execute_result"
    }
   ],
   "source": [
    "df_json"
   ]
  },
  {
   "cell_type": "code",
   "execution_count": 52,
   "metadata": {
    "collapsed": false
   },
   "outputs": [],
   "source": [
    "import json\n",
    "from pandas.io.json import json_normalize"
   ]
  },
  {
   "cell_type": "code",
   "execution_count": 53,
   "metadata": {
    "collapsed": true
   },
   "outputs": [],
   "source": [
    "json2dic = json.loads(df_json)"
   ]
  },
  {
   "cell_type": "code",
   "execution_count": 54,
   "metadata": {
    "collapsed": false
   },
   "outputs": [
    {
     "data": {
      "text/plain": [
       "[{'Class': 1, 'x': -4.1951240038, 'y': -0.2222069811},\n",
       " {'Class': 1, 'x': -2.6195095969, 'y': -1.532374287},\n",
       " {'Class': 1, 'x': -3.1595605293, 'y': 0.3970279904},\n",
       " {'Class': 1, 'x': -4.9040051029, 'y': 1.4056820441},\n",
       " {'Class': 1, 'x': -1.2928084143, 'y': 1.3801782708},\n",
       " {'Class': 1, 'x': -3.9583525169, 'y': 1.2441240246},\n",
       " {'Class': 1, 'x': -3.1800705978, 'y': 0.2035219504},\n",
       " {'Class': 1, 'x': -2.6405026701, 'y': 1.7445985515},\n",
       " {'Class': 1, 'x': -3.4617310701, 'y': -0.4506542235},\n",
       " {'Class': 1, 'x': -3.1412116563, 'y': -0.4466152656},\n",
       " {'Class': 1, 'x': -4.2596513379, 'y': 0.1641483915},\n",
       " {'Class': 1, 'x': -2.0506643504, 'y': 0.2089318545},\n",
       " {'Class': 1, 'x': -2.4442626249, 'y': -0.0200439309},\n",
       " {'Class': 1, 'x': -5.1908439369, 'y': -0.2645384898},\n",
       " {'Class': 1, 'x': -5.5782483325, 'y': 0.6102753437},\n",
       " {'Class': 1, 'x': -2.9942378413, 'y': 1.5629162688},\n",
       " {'Class': 1, 'x': -2.9864612944, 'y': 1.9475994219},\n",
       " {'Class': 1, 'x': -2.4229071133, 'y': 1.5732672323},\n",
       " {'Class': 1, 'x': -4.7608121439, 'y': 1.7188690105},\n",
       " {'Class': 1, 'x': -2.4263711209, 'y': 1.1081242007},\n",
       " {'Class': 1, 'x': -3.736098246, 'y': -0.9370977122},\n",
       " {'Class': 1, 'x': -1.0538135906, 'y': 0.387918871},\n",
       " {'Class': 1, 'x': -2.4858338072, 'y': -0.9254956516},\n",
       " {'Class': 1, 'x': -1.3866731008, 'y': -0.843056514},\n",
       " {'Class': 1, 'x': -1.6192816046, 'y': -0.8945838204},\n",
       " {'Class': 1, 'x': -3.4105819722, 'y': -2.7101648891},\n",
       " {'Class': 1, 'x': -1.9570949406, 'y': 0.4711664952},\n",
       " {'Class': 1, 'x': -1.1853967189, 'y': -0.2415845174},\n",
       " {'Class': 1, 'x': -2.4619037296, 'y': 0.4610204681},\n",
       " {'Class': 1, 'x': -2.4078589631, 'y': -0.6731277629},\n",
       " {'Class': 1, 'x': -3.3005876842, 'y': 1.3331699801},\n",
       " {'Class': 1, 'x': -3.3926930798, 'y': 0.9177217504},\n",
       " {'Class': 1, 'x': -1.5621732733, 'y': -0.2808906821},\n",
       " {'Class': 1, 'x': -2.9665521421, 'y': 2.5563215497},\n",
       " {'Class': 1, 'x': -1.504076587, 'y': 0.5552551812},\n",
       " {'Class': 1, 'x': -1.8200344857, 'y': -0.4634784369},\n",
       " {'Class': 1, 'x': -1.5555229861, 'y': 0.9744327928},\n",
       " {'Class': 1, 'x': -1.0415393762, 'y': 0.0350644917},\n",
       " {'Class': 1, 'x': -1.2584926788, 'y': -1.1306261857},\n",
       " {'Class': 1, 'x': -3.8395141747, 'y': 2.4266625298},\n",
       " {'Class': 1, 'x': -3.042646709, 'y': -0.7666799684},\n",
       " {'Class': 1, 'x': -0.6438180997, 'y': 0.4875347581},\n",
       " {'Class': 1, 'x': -3.8197577698, 'y': -0.0823909907},\n",
       " {'Class': 1, 'x': -0.468164121, 'y': 0.6143550464},\n",
       " {'Class': 1, 'x': -2.1098331412, 'y': -1.0867008444},\n",
       " {'Class': 1, 'x': -1.8088769546, 'y': 2.0994781227},\n",
       " {'Class': 1, 'x': -3.7011873852, 'y': 0.0810537973},\n",
       " {'Class': 1, 'x': -3.2605005715, 'y': -0.8049434455},\n",
       " {'Class': 1, 'x': -2.375823082, 'y': 0.6428320785},\n",
       " {'Class': 1, 'x': -3.6108180495, 'y': 1.0462806834},\n",
       " {'Class': 1, 'x': -4.2924194794, 'y': -1.6126546106},\n",
       " {'Class': 1, 'x': -3.3499412311, 'y': -0.2772809709},\n",
       " {'Class': 1, 'x': -4.4460313213, 'y': 0.6128310262},\n",
       " {'Class': 1, 'x': -2.8892895527, 'y': 1.5890265046},\n",
       " {'Class': 1, 'x': -2.5755514396, 'y': 0.1521000682},\n",
       " {'Class': 1, 'x': -3.0215448536, 'y': 0.6781201727},\n",
       " {'Class': 1, 'x': -3.4377596975, 'y': 0.2983618437},\n",
       " {'Class': 1, 'x': -2.5384171154, 'y': 0.8869504876},\n",
       " {'Class': 1, 'x': -3.9571751084, 'y': 0.7794565642},\n",
       " {'Class': 2, 'x': 4.0653393826, 'y': -4.606906759},\n",
       " {'Class': 2, 'x': 4.2195436789, 'y': -1.1551696723},\n",
       " {'Class': 2, 'x': 3.2420248389, 'y': -0.1051016821},\n",
       " {'Class': 2, 'x': 0.5436496428, 'y': -0.5994161236},\n",
       " {'Class': 2, 'x': -1.509529701, 'y': -3.1079810704},\n",
       " {'Class': 2, 'x': 2.5472810969, 'y': -2.1396293625},\n",
       " {'Class': 2, 'x': -0.5586409784, 'y': -0.9260574149},\n",
       " {'Class': 2, 'x': -2.029168453, 'y': -3.6825127337},\n",
       " {'Class': 2, 'x': 0.7703306417, 'y': -3.006830839},\n",
       " {'Class': 2, 'x': 1.0769478043, 'y': 0.9022746556},\n",
       " {'Class': 2, 'x': -2.0705671053, 'y': -5.4454638363},\n",
       " {'Class': 2, 'x': 2.0908165309, 'y': 0.0978277399},\n",
       " {'Class': 2, 'x': -2.2495255233, 'y': -3.0656093715},\n",
       " {'Class': 2, 'x': 1.0905879699, 'y': -0.3504393246},\n",
       " {'Class': 2, 'x': -4.6610431921, 'y': -3.1913184913},\n",
       " {'Class': 2, 'x': -1.6869991154, 'y': -2.4733205006},\n",
       " {'Class': 2, 'x': 2.4779409284, 'y': -2.474746862},\n",
       " {'Class': 2, 'x': 0.5104301341, 'y': -3.5406554781},\n",
       " {'Class': 2, 'x': 2.1788381379, 'y': -0.4047575268},\n",
       " {'Class': 2, 'x': -1.638330656, 'y': -4.1742059624},\n",
       " {'Class': 2, 'x': -0.0578088067, 'y': -1.6004006695},\n",
       " {'Class': 2, 'x': 0.628151649, 'y': -3.7056685662},\n",
       " {'Class': 2, 'x': -0.5408480793, 'y': -1.4318658526},\n",
       " {'Class': 2, 'x': 2.103254502, 'y': -2.646649336},\n",
       " {'Class': 2, 'x': 3.0643668351, 'y': 0.698612824},\n",
       " {'Class': 2, 'x': -0.7116607287, 'y': -2.6153105146},\n",
       " {'Class': 2, 'x': -0.0839766233, 'y': -2.0296615673},\n",
       " {'Class': 2, 'x': 2.101800992, 'y': -1.8363658986},\n",
       " {'Class': 2, 'x': 2.4390099866, 'y': -3.1070252553},\n",
       " {'Class': 2, 'x': 1.9651673126, 'y': -1.1148281251},\n",
       " {'Class': 2, 'x': 1.9222704826, 'y': -2.7793229136},\n",
       " {'Class': 2, 'x': 2.4714406418, 'y': -1.3393565893},\n",
       " {'Class': 2, 'x': 2.493353654, 'y': -1.1228407344},\n",
       " {'Class': 2, 'x': 3.0037581199, 'y': -0.7187392631},\n",
       " {'Class': 2, 'x': -0.0193424393, 'y': -2.6888239724},\n",
       " {'Class': 2, 'x': -0.3700690864, 'y': -3.048988912},\n",
       " {'Class': 2, 'x': -4.4881219934, 'y': -3.9140369799},\n",
       " {'Class': 2, 'x': 3.4309664658, 'y': -2.7459021207},\n",
       " {'Class': 2, 'x': -0.1111441454, 'y': -2.9851069493},\n",
       " {'Class': 2, 'x': -2.01417898, 'y': -2.6129496607},\n",
       " {'Class': 2, 'x': -0.5371029558, 'y': -4.1084000329},\n",
       " {'Class': 2, 'x': 0.1020855712, 'y': -3.2732830967},\n",
       " {'Class': 2, 'x': 1.5328743965, 'y': -2.1242757967},\n",
       " {'Class': 2, 'x': 0.5552505491, 'y': -0.8431887247},\n",
       " {'Class': 2, 'x': 1.554002367, 'y': -2.5498910049},\n",
       " {'Class': 2, 'x': 0.335026407, 'y': -2.0734590024},\n",
       " {'Class': 2, 'x': 3.3010775269, 'y': -1.2178602597},\n",
       " {'Class': 2, 'x': 1.1299648925, 'y': -1.6856425529},\n",
       " {'Class': 2, 'x': 2.1479638281, 'y': -0.5584723674},\n",
       " {'Class': 2, 'x': 0.6981550668, 'y': -2.6079337392},\n",
       " {'Class': 2, 'x': -1.2893459814, 'y': -2.8036899824},\n",
       " {'Class': 2, 'x': -1.0013059528, 'y': -5.3647981737},\n",
       " {'Class': 2, 'x': 0.8548632531, 'y': -1.4904179166},\n",
       " {'Class': 2, 'x': 3.6295366574, 'y': -1.0939628197},\n",
       " {'Class': 2, 'x': 1.848511774, 'y': -2.2703844272},\n",
       " {'Class': 2, 'x': 1.5522036544, 'y': -1.6260452961},\n",
       " {'Class': 2, 'x': 1.5459766488, 'y': -4.9650711985},\n",
       " {'Class': 2, 'x': 1.1923144369, 'y': -2.7315760739},\n",
       " {'Class': 2, 'x': 0.7963463409, 'y': -1.7275072131},\n",
       " {'Class': 2, 'x': 3.7712506806, 'y': -0.0765354358},\n",
       " {'Class': 2, 'x': 1.3997136211, 'y': -2.2711162354},\n",
       " {'Class': 2, 'x': -0.487997543, 'y': -2.1229380819},\n",
       " {'Class': 2, 'x': -3.6126342149, 'y': -5.3371832439},\n",
       " {'Class': 2, 'x': 3.4432370401, 'y': -1.6584085659},\n",
       " {'Class': 2, 'x': 1.9623733702, 'y': -3.841066597},\n",
       " {'Class': 2, 'x': -2.446171953, 'y': 3.5955055619},\n",
       " {'Class': 2, 'x': 0.7846771644, 'y': -2.0075181752},\n",
       " {'Class': 2, 'x': 0.4211825587, 'y': -1.3840587388},\n",
       " {'Class': 2, 'x': 3.9306092963, 'y': -1.8453173835},\n",
       " {'Class': 2, 'x': 1.3579583638, 'y': -1.7255129811},\n",
       " {'Class': 2, 'x': 2.6349157681, 'y': -0.3357036672},\n",
       " {'Class': 3, 'x': 0.402661078, 'y': 2.54671959},\n",
       " {'Class': 3, 'x': 1.8406493549, 'y': 1.9587903717},\n",
       " {'Class': 3, 'x': 2.8026799518, 'y': 2.0953673229},\n",
       " {'Class': 3, 'x': 1.3951541577, 'y': 2.2836536631},\n",
       " {'Class': 3, 'x': 3.5881872957, 'y': 0.3471926539},\n",
       " {'Class': 3, 'x': 3.5728954343, 'y': 1.5182137471},\n",
       " {'Class': 3, 'x': 4.4738722131, 'y': 1.476244361},\n",
       " {'Class': 3, 'x': 4.7858065259, 'y': 1.8258342455},\n",
       " {'Class': 3, 'x': 3.3358630892, 'y': 1.5823207497},\n",
       " {'Class': 3, 'x': 2.4454769184, 'y': 1.0511490812},\n",
       " {'Class': 3, 'x': 2.9164584899, 'y': 1.1561603235},\n",
       " {'Class': 3, 'x': 1.9869401502, 'y': 1.4848054673},\n",
       " {'Class': 3, 'x': 3.5487376478, 'y': 1.2678981475},\n",
       " {'Class': 3, 'x': 2.5114781653, 'y': 1.5356005715},\n",
       " {'Class': 3, 'x': 1.2716302587, 'y': 3.0137614398},\n",
       " {'Class': 3, 'x': 2.403244926, 'y': 1.8901954443},\n",
       " {'Class': 3, 'x': 4.7532152112, 'y': 2.6803877246},\n",
       " {'Class': 3, 'x': 3.1383598586, 'y': 2.9404194749},\n",
       " {'Class': 3, 'x': 2.0417886499, 'y': 2.8254522107},\n",
       " {'Class': 3, 'x': 1.7348024759, 'y': 3.7959898108},\n",
       " {'Class': 3, 'x': 0.563754071, 'y': 4.4693833326},\n",
       " {'Class': 3, 'x': 1.0478393612, 'y': 4.405380269},\n",
       " {'Class': 3, 'x': 0.126272485, 'y': 3.7938621181},\n",
       " {'Class': 3, 'x': 2.0890323507, 'y': 4.0455600035},\n",
       " {'Class': 3, 'x': 3.3217584612, 'y': 1.8621287585},\n",
       " {'Class': 3, 'x': 3.2966659133, 'y': 3.5894422353},\n",
       " {'Class': 3, 'x': 2.2303567255, 'y': 3.4871946453},\n",
       " {'Class': 3, 'x': 3.6187686443, 'y': 2.9798049065},\n",
       " {'Class': 3, 'x': -1.1532356668, 'y': 5.5724517398},\n",
       " {'Class': 3, 'x': -0.3293755875, 'y': 4.6585494011},\n",
       " {'Class': 3, 'x': 2.9462141475, 'y': 2.4214293801},\n",
       " {'Class': 3, 'x': 1.6457019811, 'y': 2.0613478012},\n",
       " {'Class': 3, 'x': 2.9200986441, 'y': 1.419213211},\n",
       " {'Class': 3, 'x': 2.1205145877, 'y': 1.9065772509},\n",
       " {'Class': 3, 'x': 2.2188646676, 'y': 3.1572392277},\n",
       " {'Class': 3, 'x': 3.4593717983, 'y': 2.4237354933},\n",
       " {'Class': 3, 'x': 0.9938284981, 'y': 3.8647629887},\n",
       " {'Class': 3, 'x': 2.426933165, 'y': 2.9709796825},\n",
       " {'Class': 3, 'x': 0.8364318251, 'y': 3.2619627066},\n",
       " {'Class': 3, 'x': 0.6758055063, 'y': 4.3918512414},\n",
       " {'Class': 3, 'x': 3.4172849299, 'y': 1.0939241857},\n",
       " {'Class': 3, 'x': 3.7487833883, 'y': 2.7226968331},\n",
       " {'Class': 3, 'x': 1.4806633077, 'y': 3.4695111117},\n",
       " {'Class': 3, 'x': 2.9353331279, 'y': 3.7757696821},\n",
       " {'Class': 3, 'x': 1.7079573244, 'y': 2.7812554298},\n",
       " {'Class': 3, 'x': 1.4904974831, 'y': 4.3024377685},\n",
       " {'Class': 3, 'x': 1.1962793847, 'y': 3.688373004},\n",
       " {'Class': 3, 'x': 2.2364842467, 'y': 4.3787944472}]"
      ]
     },
     "execution_count": 54,
     "metadata": {},
     "output_type": "execute_result"
    }
   ],
   "source": [
    "json2dic"
   ]
  },
  {
   "cell_type": "code",
   "execution_count": 56,
   "metadata": {
    "collapsed": false
   },
   "outputs": [
    {
     "data": {
      "text/html": [
       "<div>\n",
       "<table border=\"1\" class=\"dataframe\">\n",
       "  <thead>\n",
       "    <tr style=\"text-align: right;\">\n",
       "      <th></th>\n",
       "      <th>Class</th>\n",
       "      <th>x</th>\n",
       "      <th>y</th>\n",
       "    </tr>\n",
       "  </thead>\n",
       "  <tbody>\n",
       "    <tr>\n",
       "      <th>0</th>\n",
       "      <td>1</td>\n",
       "      <td>-4.195124</td>\n",
       "      <td>-0.222207</td>\n",
       "    </tr>\n",
       "    <tr>\n",
       "      <th>1</th>\n",
       "      <td>1</td>\n",
       "      <td>-2.619510</td>\n",
       "      <td>-1.532374</td>\n",
       "    </tr>\n",
       "    <tr>\n",
       "      <th>2</th>\n",
       "      <td>1</td>\n",
       "      <td>-3.159561</td>\n",
       "      <td>0.397028</td>\n",
       "    </tr>\n",
       "    <tr>\n",
       "      <th>3</th>\n",
       "      <td>1</td>\n",
       "      <td>-4.904005</td>\n",
       "      <td>1.405682</td>\n",
       "    </tr>\n",
       "    <tr>\n",
       "      <th>4</th>\n",
       "      <td>1</td>\n",
       "      <td>-1.292808</td>\n",
       "      <td>1.380178</td>\n",
       "    </tr>\n",
       "    <tr>\n",
       "      <th>5</th>\n",
       "      <td>1</td>\n",
       "      <td>-3.958353</td>\n",
       "      <td>1.244124</td>\n",
       "    </tr>\n",
       "    <tr>\n",
       "      <th>6</th>\n",
       "      <td>1</td>\n",
       "      <td>-3.180071</td>\n",
       "      <td>0.203522</td>\n",
       "    </tr>\n",
       "    <tr>\n",
       "      <th>7</th>\n",
       "      <td>1</td>\n",
       "      <td>-2.640503</td>\n",
       "      <td>1.744599</td>\n",
       "    </tr>\n",
       "    <tr>\n",
       "      <th>8</th>\n",
       "      <td>1</td>\n",
       "      <td>-3.461731</td>\n",
       "      <td>-0.450654</td>\n",
       "    </tr>\n",
       "    <tr>\n",
       "      <th>9</th>\n",
       "      <td>1</td>\n",
       "      <td>-3.141212</td>\n",
       "      <td>-0.446615</td>\n",
       "    </tr>\n",
       "  </tbody>\n",
       "</table>\n",
       "</div>"
      ],
      "text/plain": [
       "   Class         x         y\n",
       "0      1 -4.195124 -0.222207\n",
       "1      1 -2.619510 -1.532374\n",
       "2      1 -3.159561  0.397028\n",
       "3      1 -4.904005  1.405682\n",
       "4      1 -1.292808  1.380178\n",
       "5      1 -3.958353  1.244124\n",
       "6      1 -3.180071  0.203522\n",
       "7      1 -2.640503  1.744599\n",
       "8      1 -3.461731 -0.450654\n",
       "9      1 -3.141212 -0.446615"
      ]
     },
     "execution_count": 56,
     "metadata": {},
     "output_type": "execute_result"
    }
   ],
   "source": [
    "pd.read_json(df_json).head(10)"
   ]
  },
  {
   "cell_type": "code",
   "execution_count": 1,
   "metadata": {
    "collapsed": true
   },
   "outputs": [],
   "source": [
    "import numpy as np\n",
    "from sklearn import manifold"
   ]
  },
  {
   "cell_type": "code",
   "execution_count": 2,
   "metadata": {
    "collapsed": false
   },
   "outputs": [],
   "source": [
    "dt=np.array([[1,2,3,4,5],[2,1,4,9,7],[9,2,5,11,6]])"
   ]
  },
  {
   "cell_type": "code",
   "execution_count": 3,
   "metadata": {
    "collapsed": false
   },
   "outputs": [
    {
     "data": {
      "text/plain": [
       "array([[ 1,  2,  3,  4,  5],\n",
       "       [ 2,  1,  4,  9,  7],\n",
       "       [ 9,  2,  5, 11,  6]])"
      ]
     },
     "execution_count": 3,
     "metadata": {},
     "output_type": "execute_result"
    }
   ],
   "source": [
    "dt"
   ]
  },
  {
   "cell_type": "code",
   "execution_count": 4,
   "metadata": {
    "collapsed": false
   },
   "outputs": [],
   "source": [
    "weight_init=np.array([1/len(dt[0])]*5)"
   ]
  },
  {
   "cell_type": "code",
   "execution_count": 5,
   "metadata": {
    "collapsed": false
   },
   "outputs": [
    {
     "data": {
      "text/plain": [
       "array([ 0.2,  0.2,  0.2,  0.2,  0.2])"
      ]
     },
     "execution_count": 5,
     "metadata": {},
     "output_type": "execute_result"
    }
   ],
   "source": [
    "weight_init"
   ]
  },
  {
   "cell_type": "code",
   "execution_count": 25,
   "metadata": {
    "collapsed": true
   },
   "outputs": [],
   "source": [
    "def weighted_dist(array_a,array_b,weight):\n",
    "    return sum(((array_a-array_b)**2)*weight)**(1/2)"
   ]
  },
  {
   "cell_type": "code",
   "execution_count": 26,
   "metadata": {
    "collapsed": false
   },
   "outputs": [
    {
     "data": {
      "text/plain": [
       "2.5298221281347035"
      ]
     },
     "execution_count": 26,
     "metadata": {},
     "output_type": "execute_result"
    }
   ],
   "source": [
    "weighted_dist(a[0],a[1],weight_init)"
   ]
  },
  {
   "cell_type": "code",
   "execution_count": 6,
   "metadata": {
    "collapsed": true
   },
   "outputs": [],
   "source": [
    "def weightedL2(a,b,w):\n",
    "    q = a-b\n",
    "    return np.sqrt((w*q*q).sum())"
   ]
  },
  {
   "cell_type": "code",
   "execution_count": 49,
   "metadata": {
    "collapsed": true
   },
   "outputs": [],
   "source": [
    "res = np.array([([0]*3) for i in range(0,3)],dtype=np.float64)"
   ]
  },
  {
   "cell_type": "code",
   "execution_count": 50,
   "metadata": {
    "collapsed": false
   },
   "outputs": [
    {
     "data": {
      "text/plain": [
       "array([[ 0.,  0.,  0.],\n",
       "       [ 0.,  0.,  0.],\n",
       "       [ 0.,  0.,  0.]])"
      ]
     },
     "execution_count": 50,
     "metadata": {},
     "output_type": "execute_result"
    }
   ],
   "source": [
    "res"
   ]
  },
  {
   "cell_type": "code",
   "execution_count": 39,
   "metadata": {
    "collapsed": false
   },
   "outputs": [
    {
     "name": "stdout",
     "output_type": "stream",
     "text": [
      "[1 2 3 4 5]\n",
      "[2 1 4 9 7]\n",
      "[ 9  2  5 11  6]\n"
     ]
    }
   ],
   "source": [
    "for array in a:\n",
    "    print(array)"
   ]
  },
  {
   "cell_type": "code",
   "execution_count": 51,
   "metadata": {
    "collapsed": false
   },
   "outputs": [],
   "source": [
    "for i in range(0,len(a)):\n",
    "    for j in range(i,len(a)):\n",
    "        temp = weightedL2(a[i],a[j],weight_init)\n",
    "        res[i][j] = temp\n",
    "        res[j][i] = temp"
   ]
  },
  {
   "cell_type": "code",
   "execution_count": 52,
   "metadata": {
    "collapsed": false
   },
   "outputs": [
    {
     "data": {
      "text/plain": [
       "array([[ 0.        ,  2.52982213,  4.85798312],\n",
       "       [ 2.52982213,  0.        ,  3.34664011],\n",
       "       [ 4.85798312,  3.34664011,  0.        ]])"
      ]
     },
     "execution_count": 52,
     "metadata": {},
     "output_type": "execute_result"
    }
   ],
   "source": [
    "res"
   ]
  },
  {
   "cell_type": "code",
   "execution_count": 46,
   "metadata": {
    "collapsed": false
   },
   "outputs": [],
   "source": [
    "for i in range(0,len(a)):\n",
    "    for j in range(i,len(a)):\n",
    "        temp = weightedL2(a[i],a[j],weight_init)\n",
    "        res_1[i][j] = temp\n",
    "        res_1[j][i] = temp"
   ]
  },
  {
   "cell_type": "code",
   "execution_count": 7,
   "metadata": {
    "collapsed": true
   },
   "outputs": [],
   "source": [
    "def dist_func(dataset,weight):\n",
    "    length = len(dataset)\n",
    "    res = np.array([([0]*length) for i in range(0,length)],dtype=np.float64)\n",
    "    for i in range(0,length):\n",
    "        for j in range(i,length):\n",
    "            temp = weightedL2(dataset[i],dataset[j],weight)\n",
    "            res[i][j] = temp\n",
    "            res[j][i] = temp\n",
    "    return res        "
   ]
  },
  {
   "cell_type": "code",
   "execution_count": 8,
   "metadata": {
    "collapsed": false
   },
   "outputs": [
    {
     "data": {
      "text/plain": [
       "array([[ 0.        ,  2.52982213,  4.85798312],\n",
       "       [ 2.52982213,  0.        ,  3.34664011],\n",
       "       [ 4.85798312,  3.34664011,  0.        ]])"
      ]
     },
     "execution_count": 8,
     "metadata": {},
     "output_type": "execute_result"
    }
   ],
   "source": [
    "dist_func(dt,weight_init)"
   ]
  },
  {
   "cell_type": "code",
   "execution_count": 9,
   "metadata": {
    "collapsed": false
   },
   "outputs": [],
   "source": [
    "dist = dist_func(dt,weight_init)"
   ]
  },
  {
   "cell_type": "code",
   "execution_count": 10,
   "metadata": {
    "collapsed": true
   },
   "outputs": [],
   "source": [
    "seed = np.random.RandomState(seed=3)"
   ]
  },
  {
   "cell_type": "code",
   "execution_count": 11,
   "metadata": {
    "collapsed": true
   },
   "outputs": [],
   "source": [
    "mds = manifold.MDS(n_components=2, max_iter=3000, eps=1e-9, \n",
    "      random_state=seed, dissimilarity=\"precomputed\", n_jobs=1)"
   ]
  },
  {
   "cell_type": "code",
   "execution_count": 12,
   "metadata": {
    "collapsed": true
   },
   "outputs": [],
   "source": [
    "dt_2Dims = mds.fit(dist).embedding_"
   ]
  },
  {
   "cell_type": "code",
   "execution_count": 13,
   "metadata": {
    "collapsed": false
   },
   "outputs": [
    {
     "data": {
      "text/plain": [
       "array([[-2.28796429,  0.43285802],\n",
       "       [-0.27630339, -1.10121467],\n",
       "       [ 2.56426769,  0.66835664]])"
      ]
     },
     "execution_count": 13,
     "metadata": {},
     "output_type": "execute_result"
    }
   ],
   "source": [
    "dt_2Dims"
   ]
  },
  {
   "cell_type": "code",
   "execution_count": 14,
   "metadata": {
    "collapsed": true
   },
   "outputs": [],
   "source": [
    "dt_2Dims_dragged = dt_2Dims *1"
   ]
  },
  {
   "cell_type": "code",
   "execution_count": 15,
   "metadata": {
    "collapsed": true
   },
   "outputs": [],
   "source": [
    "dt_2Dims_dragged[0]=np.array([1,1])"
   ]
  },
  {
   "cell_type": "code",
   "execution_count": 16,
   "metadata": {
    "collapsed": false
   },
   "outputs": [
    {
     "data": {
      "text/plain": [
       "array([[ 1.        ,  1.        ],\n",
       "       [-0.27630339, -1.10121467],\n",
       "       [ 2.56426769,  0.66835664]])"
      ]
     },
     "execution_count": 16,
     "metadata": {},
     "output_type": "execute_result"
    }
   ],
   "source": [
    "dt_2Dims_dragged"
   ]
  },
  {
   "cell_type": "code",
   "execution_count": 17,
   "metadata": {
    "collapsed": false
   },
   "outputs": [],
   "source": [
    "dist_2Dims_before = dist_func(dt_2Dims,np.array([0.5,0.5]))"
   ]
  },
  {
   "cell_type": "code",
   "execution_count": 18,
   "metadata": {
    "collapsed": false
   },
   "outputs": [
    {
     "data": {
      "text/plain": [
       "array([[ 0.        ,  1.78887654,  3.43508477],\n",
       "       [ 1.78887654,  0.        ,  2.36645586],\n",
       "       [ 3.43508477,  2.36645586,  0.        ]])"
      ]
     },
     "execution_count": 18,
     "metadata": {},
     "output_type": "execute_result"
    }
   ],
   "source": [
    "dist_2Dims_before"
   ]
  },
  {
   "cell_type": "code",
   "execution_count": 19,
   "metadata": {
    "collapsed": true
   },
   "outputs": [],
   "source": [
    "dist_2Dims_after = dist_func(dt_2Dims_dragged,np.array([0.5,0.5]))"
   ]
  },
  {
   "cell_type": "code",
   "execution_count": 20,
   "metadata": {
    "collapsed": false
   },
   "outputs": [
    {
     "data": {
      "text/plain": [
       "array([[ 0.        ,  1.73839774,  1.13069021],\n",
       "       [ 1.73839774,  0.        ,  2.36645586],\n",
       "       [ 1.13069021,  2.36645586,  0.        ]])"
      ]
     },
     "execution_count": 20,
     "metadata": {},
     "output_type": "execute_result"
    }
   ],
   "source": [
    "dist_2Dims_after"
   ]
  },
  {
   "cell_type": "code",
   "execution_count": 21,
   "metadata": {
    "collapsed": false
   },
   "outputs": [
    {
     "name": "stderr",
     "output_type": "stream",
     "text": [
      "/home/shaowei/.pyenv/versions/3.5.1/lib/python3.5/site-packages/ipykernel/__main__.py:1: RuntimeWarning: invalid value encountered in true_divide\n",
      "  if __name__ == '__main__':\n"
     ]
    },
    {
     "data": {
      "text/plain": [
       "array([[        nan,  0.97178184,  0.32915933],\n",
       "       [ 0.97178184,         nan,  1.        ],\n",
       "       [ 0.32915933,  1.        ,         nan]])"
      ]
     },
     "execution_count": 21,
     "metadata": {},
     "output_type": "execute_result"
    }
   ],
   "source": [
    "dist_2Dims_after/dist_2Dims_before"
   ]
  },
  {
   "cell_type": "code",
   "execution_count": 22,
   "metadata": {
    "collapsed": true
   },
   "outputs": [],
   "source": [
    "def umatrix(dist_2_after,dist_2_before):\n",
    "    further = 0\n",
    "    closer  = 0 \n",
    "    unchange = 0\n",
    "    length = len(dist_2_before)\n",
    "    u = np.array([[0]*length for i in range(0,length)],dtype=np.float64)\n",
    "    for i in range(0,length):\n",
    "        for j in range(i+1,length):\n",
    "            temp = dist_2_after[i][j]/dist_2_before[i][j]\n",
    "            if temp>1:\n",
    "                further+=1\n",
    "            elif temp<1:\n",
    "                closer+=1\n",
    "            else:\n",
    "                unchange+=1\n",
    "            u[i][j] = temp\n",
    "            u[j][i] = temp\n",
    "    return {\"Further\":further*2, \"Closer\":closer*2,\"Unchange\":unchange*2 ,\"U\":u,\"Total\":length*(length-1)}         "
   ]
  },
  {
   "cell_type": "code",
   "execution_count": 23,
   "metadata": {
    "collapsed": false
   },
   "outputs": [],
   "source": [
    "u = umatrix(dist_2Dims_after,dist_2Dims_before)"
   ]
  },
  {
   "cell_type": "code",
   "execution_count": 24,
   "metadata": {
    "collapsed": false
   },
   "outputs": [
    {
     "data": {
      "text/plain": [
       "{'Closer': 4,\n",
       " 'Further': 0,\n",
       " 'Total': 6,\n",
       " 'U': array([[ 0.        ,  0.97178184,  0.32915933],\n",
       "        [ 0.97178184,  0.        ,  1.        ],\n",
       "        [ 0.32915933,  1.        ,  0.        ]]),\n",
       " 'Unchange': 2}"
      ]
     },
     "execution_count": 24,
     "metadata": {},
     "output_type": "execute_result"
    }
   ],
   "source": [
    "u"
   ]
  },
  {
   "cell_type": "code",
   "execution_count": 25,
   "metadata": {
    "collapsed": true
   },
   "outputs": [],
   "source": [
    "def lmatrix(u):\n",
    "    length = len(u[\"U\"])\n",
    "    unchange = u[\"Unchange\"]\n",
    "    closer = u[\"Closer\"]\n",
    "    further = u[\"Further\"]\n",
    "    u_matrix = u[\"U\"]\n",
    "    res = np.array([[0]*length for i in range(0,length)],dtype=np.float64)\n",
    "    for i in range(0,length):\n",
    "        for j in range(i+1,length):\n",
    "            if u_matrix[i][j]!= 1:\n",
    "                temp = unchange/(closer+further)\n",
    "                res[i][j] = temp\n",
    "                res[j][i] = temp\n",
    "            else:\n",
    "                res[i][j] =1\n",
    "                res[i][j] =1 \n",
    "    return res "
   ]
  },
  {
   "cell_type": "code",
   "execution_count": 27,
   "metadata": {
    "collapsed": false
   },
   "outputs": [],
   "source": [
    "l = lmatrix(u)"
   ]
  },
  {
   "cell_type": "code",
   "execution_count": 28,
   "metadata": {
    "collapsed": false
   },
   "outputs": [
    {
     "data": {
      "text/plain": [
       "array([[ 0. ,  0.5,  0.5],\n",
       "       [ 0.5,  0. ,  1. ],\n",
       "       [ 0.5,  0. ,  0. ]])"
      ]
     },
     "execution_count": 28,
     "metadata": {},
     "output_type": "execute_result"
    }
   ],
   "source": [
    "l"
   ]
  },
  {
   "cell_type": "code",
   "execution_count": 35,
   "metadata": {
    "collapsed": false
   },
   "outputs": [],
   "source": [
    "from scipy.optimize import minimize"
   ]
  },
  {
   "cell_type": "code",
   "execution_count": null,
   "metadata": {
    "collapsed": true
   },
   "outputs": [],
   "source": [
    "def func(x, sign=1.0):\n",
    "    return sign*(2*x[0]*x[1] + 2*x[0] - x[0]**2 - 2*x[1]**2)\n",
    "\n",
    "def func_deriv(x, sign=1.0):\n",
    "    dfdx0 = sign*(-2*x[0] + 2*x[1] + 2)\n",
    "    dfdx1 = sign*(2*x[0] - 4*x[1])\n",
    "    return np.array([ dfdx0, dfdx1 ])\n",
    "\n",
    "cons = ({'type': 'eq',\n",
    "         'fun' : lambda x: np.array([x[0]**3 - x[1]]),\n",
    "         'jac' : lambda x: np.array([3.0*(x[0]**2.0), -1.0])},\n",
    "        {'type': 'ineq',\n",
    "         'fun' : lambda x: np.array([x[1] - 1]),\n",
    "         'jac' : lambda x: np.array([0.0, 1.0])})\n",
    "\n",
    "\n",
    "res = minimize(func, [-1.0,1.0], args=(-1.0,), jac=func_deriv,\n",
    "               constraints=cons, method='SLSQP', options={'disp': True})\n",
    "\n",
    "res.x\n",
    "\n",
    "def func_1(x,sign = 1.0):\n",
    "    return sign*(x[0]**2 + x[1]**2)\n",
    "\n",
    "def func_deriv_1(x,sign=1.0):\n",
    "    dfdx0 = sign*2*x[0]\n",
    "    dfdx1 = sign*2*x[1]\n",
    "    return np.array([dfdx0,dfdx1])\n",
    "\n",
    "res_1_noCons = minimize(func_1,[5.0,5.0], jac = func_deriv_1,method='SLSQP', options={'disp': True})\n",
    "\n",
    "res_1_noCons.x\n",
    "\n",
    "cons_1 = ({\n",
    "        'type':'eq',\n",
    "        'fun': lambda x : np.array([x[0]+x[1]-1]),\n",
    "        'jac': lambda x : np.array([1.0,1.0])\n",
    "    })\n",
    "\n",
    "res_1_cons = minimize(func_1,[20.0,120.0],jac=func_deriv_1,\n",
    "                      constraints = cons_1,method='SLSQP', options={'disp': True})\n",
    "\n",
    "res_1_cons.x"
   ]
  },
  {
   "cell_type": "code",
   "execution_count": 63,
   "metadata": {
    "collapsed": false
   },
   "outputs": [
    {
     "name": "stdout",
     "output_type": "stream",
     "text": [
      "Iteration limit exceeded    (Exit mode 9)\n",
      "            Current function value: 1.31984386395\n",
      "            Iterations: 101\n",
      "            Function evaluations: 1028\n",
      "            Gradient evaluations: 101\n"
     ]
    },
    {
     "data": {
      "text/plain": [
       "array([ 0.88566522,  1.11433478])"
      ]
     },
     "execution_count": 63,
     "metadata": {},
     "output_type": "execute_result"
    }
   ],
   "source": [
    "def test_fun(x):\n",
    "    test = 0\n",
    "    for i in range(0,2):\n",
    "        test += x[i]\n",
    "    test = test -2\n",
    "    return np.array([test])\n",
    "\n",
    "def test_jac(x):\n",
    "    return np.array([1.0,1.0])\n",
    "    \n",
    "cons_2 = ({\n",
    "        'type':'eq',\n",
    "        'fun': test_fun,\n",
    "        'jac': test_jac\n",
    "    })\n",
    "\n",
    "def func_2(x,sign = 1.0, coef = [21,2]):\n",
    "    return sign*(x[0]**coef[0] + x[1]**coef[1])\n",
    "\n",
    "def func_deriv_2(x,sign=1.0, coef = [2,12]):\n",
    "    meta = [x[0],x[1]]\n",
    "    res=[]\n",
    "    dfdx0 = sign*coef[0]*meta[0]\n",
    "    dfdx1 = sign*coef[1]*meta[1]\n",
    "    res.append(dfdx0)\n",
    "    res.append(dfdx1)\n",
    "    return np.array(res)\n",
    "\n",
    "res_2_cons = minimize(func_2,[20.0,120.0],jac=func_deriv_2,\n",
    "                      constraints = cons_2,method='SLSQP', options={'disp': True})\n",
    "\n",
    "res_2_cons.x"
   ]
  },
  {
   "cell_type": "markdown",
   "metadata": {},
   "source": [
    "# objective function"
   ]
  },
  {
   "cell_type": "markdown",
   "metadata": {},
   "source": [
    "global parameters "
   ]
  },
  {
   "cell_type": "code",
   "execution_count": 29,
   "metadata": {
    "collapsed": false
   },
   "outputs": [],
   "source": [
    "Dt= dt\n",
    "Weight = weight_init\n",
    "U=u\n",
    "L=l "
   ]
  },
  {
   "cell_type": "code",
   "execution_count": 30,
   "metadata": {
    "collapsed": false
   },
   "outputs": [
    {
     "data": {
      "text/plain": [
       "{'Closer': 4,\n",
       " 'Further': 0,\n",
       " 'Total': 6,\n",
       " 'U': array([[ 0.        ,  0.97178184,  0.32915933],\n",
       "        [ 0.97178184,  0.        ,  1.        ],\n",
       "        [ 0.32915933,  1.        ,  0.        ]]),\n",
       " 'Unchange': 2}"
      ]
     },
     "execution_count": 30,
     "metadata": {},
     "output_type": "execute_result"
    }
   ],
   "source": [
    "U"
   ]
  },
  {
   "cell_type": "code",
   "execution_count": 88,
   "metadata": {
    "collapsed": false
   },
   "outputs": [
    {
     "data": {
      "text/plain": [
       "array([1, 2, 3, 4, 5])"
      ]
     },
     "execution_count": 88,
     "metadata": {},
     "output_type": "execute_result"
    }
   ],
   "source": [
    "Dt[0]"
   ]
  },
  {
   "cell_type": "code",
   "execution_count": 89,
   "metadata": {
    "collapsed": false
   },
   "outputs": [
    {
     "data": {
      "text/plain": [
       "array([2, 1, 4, 9, 7])"
      ]
     },
     "execution_count": 89,
     "metadata": {},
     "output_type": "execute_result"
    }
   ],
   "source": [
    "Dt[1]"
   ]
  },
  {
   "cell_type": "code",
   "execution_count": 101,
   "metadata": {
    "collapsed": false
   },
   "outputs": [
    {
     "data": {
      "text/plain": [
       "array(5.312869014299647)"
      ]
     },
     "execution_count": 101,
     "metadata": {},
     "output_type": "execute_result"
    }
   ],
   "source": [
    "object_function([0.2]*5)"
   ]
  },
  {
   "cell_type": "code",
   "execution_count": 96,
   "metadata": {
    "collapsed": false
   },
   "outputs": [
    {
     "data": {
      "text/plain": [
       "array([  6.79726180e+02,   5.09609226e-03,   4.24876638e+01])"
      ]
     },
     "execution_count": 96,
     "metadata": {},
     "output_type": "execute_result"
    }
   ],
   "source": [
    "object_func_drive([0.2]*5)"
   ]
  },
  {
   "cell_type": "code",
   "execution_count": 98,
   "metadata": {
    "collapsed": false
   },
   "outputs": [
    {
     "data": {
      "text/plain": [
       "array([ 0.])"
      ]
     },
     "execution_count": 98,
     "metadata": {},
     "output_type": "execute_result"
    }
   ],
   "source": [
    "constrain([0.2]*5)"
   ]
  },
  {
   "cell_type": "code",
   "execution_count": 99,
   "metadata": {
    "collapsed": false
   },
   "outputs": [
    {
     "data": {
      "text/plain": [
       "array([1, 1, 1, 1, 1])"
      ]
     },
     "execution_count": 99,
     "metadata": {},
     "output_type": "execute_result"
    }
   ],
   "source": [
    "constrain_jac([0.2]*5)"
   ]
  },
  {
   "cell_type": "markdown",
   "metadata": {},
   "source": [
    "Proved correct"
   ]
  },
  {
   "cell_type": "code",
   "execution_count": 31,
   "metadata": {
    "collapsed": true
   },
   "outputs": [],
   "source": [
    "def object_function(x,sign =1.0):\n",
    "    n = len(Dt)\n",
    "    m = len(Dt[0])\n",
    "    UMatrix = U[\"U\"]\n",
    "    target=0\n",
    "    objective_weight = np.array([x[i] for i in range(0,m)])\n",
    "    for i in range(0,n):\n",
    "        for j in range(i+1,n):\n",
    "\n",
    "            target+= L[i][j]*(\n",
    "                (weightedL2(Dt[i],Dt[j],objective_weight)\n",
    "                    -UMatrix[i][j]*weightedL2(Dt[i],Dt[j],Weight)\n",
    "                                                                )**2)\n",
    "    return sign*(target)\n",
    "#     return sign*(x[0]**2 + x[1]**2 + x[2]**2 + x[3]**2 + x[4]**2)\n",
    "#     return sign* (np.array([x[0]**2 , x[1]**2 , x[2]**2]).sum()+ np.array([ x[3]**2 , x[4]**2]).sum())\n",
    "#     objective_weight = np.array([x[i] for i in range(0,5)])\n",
    "#     return weightedL2(Dt[0],Dt[1],objective_weight)**2 + weightedL2(Dt[0],Dt[2],Weight)"
   ]
  },
  {
   "cell_type": "markdown",
   "metadata": {},
   "source": [
    "# objective function driveation"
   ]
  },
  {
   "cell_type": "code",
   "execution_count": 32,
   "metadata": {
    "collapsed": false
   },
   "outputs": [],
   "source": [
    "def object_func_drive(x,sign =1.0):\n",
    "    n = len(Dt)\n",
    "    m = len(Dt[0])\n",
    "    UMatrix = U[\"U\"]\n",
    "    targets = []\n",
    "    objective_weight = np.array([x[i] for i in range(0,m)])\n",
    "    for index in range(0,m):\n",
    "        target = 0\n",
    "        for i in range(0,n):\n",
    "            for j in range(i+1,n):\n",
    "                part1 = L[i][j]*(\n",
    "                    weightedL2(Dt[i],Dt[j],objective_weight)\n",
    "                    -UMatrix[i][j]*weightedL2(Dt[i],Dt[j],Weight)\n",
    "                                                                )\n",
    "                \n",
    "                part2 = (Dt[i][index]-Dt[j][index])**2\n",
    "                \n",
    "                target+=sign*(part1*part2)\n",
    "        \n",
    "        targets.append(2*target)\n",
    "    \n",
    "    return np.array(targets)\n",
    "\n",
    "#     test = [sign*x[0]**2,sign*2*x[1],sign*2*x[2],sign*2*x[3],sign*2*x[4]+x[2]**3 ]\n",
    "#     for index in range(0,n):\n",
    "#         print(index)\n",
    "#         targets.append(test[index])\n",
    "#     return np.array([sign*x[0]**2,sign*2*x[1],sign*2*x[2],sign*2*x[3],sign*2*x[4]+x[2]**3 ])\n",
    "#     return np.array(targets)"
   ]
  },
  {
   "cell_type": "markdown",
   "metadata": {
    "collapsed": true
   },
   "source": [
    "# function constrain(proved no bug)"
   ]
  },
  {
   "cell_type": "code",
   "execution_count": 43,
   "metadata": {
    "collapsed": true
   },
   "outputs": [],
   "source": [
    "def constrain(x):\n",
    "    m = len(Dt[0])\n",
    "    constrain = 0 \n",
    "    for i in range(0,m):\n",
    "        constrain += x[i]\n",
    "    constrain=constrain-1\n",
    "    return np.array([constrain])\n",
    "\n",
    "    \n",
    "\n",
    "def constrain_jac(x):\n",
    "    m = len(Dt[0])\n",
    "    driv = [1]*m\n",
    "    return np.array(driv)\n",
    "\n",
    "cons = ({\n",
    "        'type':'eq',\n",
    "        'fun': constrain,\n",
    "        'jac': constrain_jac\n",
    "    },)\n",
    "\n",
    "bnds = ((0, None), (0, None), (0, None),(0, None),(0, None))"
   ]
  },
  {
   "cell_type": "code",
   "execution_count": 52,
   "metadata": {
    "collapsed": false
   },
   "outputs": [
    {
     "name": "stdout",
     "output_type": "stream",
     "text": [
      "Optimization terminated successfully.    (Exit mode 0)\n",
      "            Current function value: 1.59080016236\n",
      "            Iterations: 8\n",
      "            Function evaluations: 34\n",
      "            Gradient evaluations: 8\n"
     ]
    }
   ],
   "source": [
    "res =  minimize(object_function,[0.2]*5,jac=object_func_drive, bounds=bnds,\n",
    "                      constraints = cons_test,method='SLSQP', options={'disp': True})"
   ]
  },
  {
   "cell_type": "code",
   "execution_count": 53,
   "metadata": {
    "collapsed": false
   },
   "outputs": [
    {
     "data": {
      "text/plain": [
       "array([  1.12120185e-01,   0.00000000e+00,   4.73529918e-13,\n",
       "         1.83866370e-12,   8.87879815e-01])"
      ]
     },
     "execution_count": 53,
     "metadata": {},
     "output_type": "execute_result"
    }
   ],
   "source": [
    "res.x"
   ]
  },
  {
   "cell_type": "code",
   "execution_count": 72,
   "metadata": {
    "collapsed": false
   },
   "outputs": [],
   "source": [
    "test = tuple([(0,None)] * len(Dt[0]))"
   ]
  },
  {
   "cell_type": "code",
   "execution_count": 73,
   "metadata": {
    "collapsed": false
   },
   "outputs": [
    {
     "data": {
      "text/plain": [
       "((0, None), (0, None), (0, None), (0, None), (0, None))"
      ]
     },
     "execution_count": 73,
     "metadata": {},
     "output_type": "execute_result"
    }
   ],
   "source": [
    "test"
   ]
  },
  {
   "cell_type": "code",
   "execution_count": 74,
   "metadata": {
    "collapsed": false
   },
   "outputs": [
    {
     "data": {
      "text/plain": [
       "((0, None), (0, None), (0, None), (0, None), (0, None))"
      ]
     },
     "execution_count": 74,
     "metadata": {},
     "output_type": "execute_result"
    }
   ],
   "source": [
    "bnds"
   ]
  },
  {
   "cell_type": "code",
   "execution_count": 75,
   "metadata": {
    "collapsed": false
   },
   "outputs": [
    {
     "data": {
      "text/plain": [
       "True"
      ]
     },
     "execution_count": 75,
     "metadata": {},
     "output_type": "execute_result"
    }
   ],
   "source": [
    "test == bnds"
   ]
  }
 ],
 "metadata": {
  "kernelspec": {
   "display_name": "Python 3",
   "language": "python",
   "name": "python3"
  },
  "language_info": {
   "codemirror_mode": {
    "name": "ipython",
    "version": 3
   },
   "file_extension": ".py",
   "mimetype": "text/x-python",
   "name": "python",
   "nbconvert_exporter": "python",
   "pygments_lexer": "ipython3",
   "version": "3.5.1"
  }
 },
 "nbformat": 4,
 "nbformat_minor": 0
}
